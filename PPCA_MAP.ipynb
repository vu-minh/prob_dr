{
 "cells": [
  {
   "cell_type": "code",
   "execution_count": 1,
   "metadata": {},
   "outputs": [
    {
     "name": "stderr",
     "output_type": "stream",
     "text": [
      "/opt/anaconda3/lib/python3.6/importlib/_bootstrap.py:205: RuntimeWarning: numpy.dtype size changed, may indicate binary incompatibility. Expected 96, got 88\n",
      "  return f(*args, **kwds)\n",
      "/opt/anaconda3/lib/python3.6/importlib/_bootstrap.py:205: RuntimeWarning: numpy.dtype size changed, may indicate binary incompatibility. Expected 96, got 88\n",
      "  return f(*args, **kwds)\n",
      "/opt/anaconda3/lib/python3.6/importlib/_bootstrap.py:205: RuntimeWarning: numpy.dtype size changed, may indicate binary incompatibility. Expected 96, got 88\n",
      "  return f(*args, **kwds)\n",
      "/opt/anaconda3/lib/python3.6/importlib/_bootstrap.py:205: RuntimeWarning: numpy.dtype size changed, may indicate binary incompatibility. Expected 96, got 88\n",
      "  return f(*args, **kwds)\n",
      "/opt/anaconda3/lib/python3.6/site-packages/h5py/__init__.py:34: FutureWarning: Conversion of the second argument of issubdtype from `float` to `np.floating` is deprecated. In future, it will be treated as `np.float64 == np.dtype(float).type`.\n",
      "  from ._conv import register_converters as _register_converters\n",
      "/opt/anaconda3/lib/python3.6/importlib/_bootstrap.py:205: RuntimeWarning: numpy.dtype size changed, may indicate binary incompatibility. Expected 96, got 88\n",
      "  return f(*args, **kwds)\n",
      "/opt/anaconda3/lib/python3.6/importlib/_bootstrap.py:205: RuntimeWarning: numpy.dtype size changed, may indicate binary incompatibility. Expected 96, got 88\n",
      "  return f(*args, **kwds)\n",
      "/opt/anaconda3/lib/python3.6/importlib/_bootstrap.py:205: RuntimeWarning: numpy.dtype size changed, may indicate binary incompatibility. Expected 96, got 88\n",
      "  return f(*args, **kwds)\n"
     ]
    },
    {
     "name": "stdout",
     "output_type": "stream",
     "text": [
      "Tensorflow Probability version:  1.10.0-dev20180716\n"
     ]
    }
   ],
   "source": [
    "import matplotlib.pyplot as plt\n",
    "import numpy as np\n",
    "import seaborn as sns\n",
    "\n",
    "import tensorflow as tf\n",
    "import tensorflow_probability as tfp\n",
    "from tensorflow_probability import edward2 as ed\n",
    "import warnings\n",
    "\n",
    "from observations import iris, mnist\n",
    "DATA_DIR = './data'\n",
    "\n",
    "plt.style.use(\"ggplot\")\n",
    "warnings.filterwarnings('ignore')\n",
    "\n",
    "print('Tensorflow Probability version: ', tf.__version__)"
   ]
  },
  {
   "cell_type": "code",
   "execution_count": 5,
   "metadata": {},
   "outputs": [
    {
     "name": "stdout",
     "output_type": "stream",
     "text": [
      "(784, 10000) (10000,)\n",
      "[7 2 1 0 4 1 4 9 5 9]\n"
     ]
    }
   ],
   "source": [
    "# (x_train, y_train), (x_test, y_test) = mnist(DATA_DIR)\n",
    "(x_test, y_test), (x_train, y_train) = mnist(DATA_DIR)\n",
    "x_train = x_train.T\n",
    "print(x_train.shape, y_train.shape)\n",
    "print(y_train[:10])"
   ]
  },
  {
   "cell_type": "code",
   "execution_count": 4,
   "metadata": {},
   "outputs": [
    {
     "name": "stdout",
     "output_type": "stream",
     "text": [
      "(4, 150) (150,)\n",
      "{'columns': ['sepal length (cm)', 'sepal width (cm)', 'petal length (cm)', 'petal width (cm)']}\n"
     ]
    }
   ],
   "source": [
    "x_train, y_train, metadata = iris(DATA_DIR)\n",
    "\n",
    "# standardize data\n",
    "# x_mean = np.mean(x_train, axis=0)\n",
    "# x_std = np.std(x_train, axis=0)\n",
    "# x_train = (x_train - x_mean) / x_std\n",
    "\n",
    "x_train = x_train.T\n",
    "print(x_train.shape, y_train.shape)\n",
    "print(metadata)\n",
    "\n",
    "y_label = np.unique(y_train)\n",
    "y_dict = dict((label, i) for i, label in enumerate(y_label))\n",
    "y_class = list(map(lambda label: y_dict[label], y_train))\n"
   ]
  },
  {
   "cell_type": "markdown",
   "metadata": {},
   "source": [
    "+ Marginal distribution of each data point:**\n",
    "\n",
    "\\begin{equation*}\n",
    "\\mathbf{x}_n \\sim \\mathcal{N}(\\mathbf{0}, \\mathbf{W} \\mathbf{W}^T + \\sigma^2 \\mathbf{I})\n",
    "\\end{equation*}\n",
    "\n",
    "+ Create a model as follow:\n",
    "    * $\\mathbf{z}_n \\sim \\mathcal{N}(\\mathbf{0}, \\mathbf{I})$\n",
    "    * $\\mathbf{W} \\sim \\mathcal{N}(\\mathbf{0}, 2 \\mathbf{I})$\n",
    "    * $\\mathbf{x}_n | \\mathbf{z}_n \\sim \\mathcal{N}(\n",
    "        \\mathbf{W} \\mathbf{z}_n, \\sigma^2 \\mathbf{T} \n",
    "      )$\n"
   ]
  },
  {
   "cell_type": "code",
   "execution_count": 6,
   "metadata": {},
   "outputs": [],
   "source": [
    "def ppca_model(data_dim, latent_dim, num_datapoints, stddev_datapoints):\n",
    "    w = ed.Normal(loc=tf.zeros([data_dim, latent_dim]),\n",
    "                  scale=tf.ones([data_dim, latent_dim]),\n",
    "                  name=\"w\") # parameter\n",
    "    z = ed.Normal(loc=tf.zeros([latent_dim, num_datapoints]),\n",
    "                  scale=tf.ones([latent_dim, num_datapoints]),\n",
    "                  name=\"z\") # parameter\n",
    "    x = ed.Normal(loc=tf.matmul(w, z),\n",
    "                  scale=stddev_datapoints * tf.ones([data_dim, num_datapoints]),\n",
    "                  name=\"x\") # modeled (observed) data\n",
    "    return x, (w, z)\n",
    "\n",
    "log_joint = ed.make_log_joint_fn(ppca_model)"
   ]
  },
  {
   "cell_type": "markdown",
   "metadata": {},
   "source": [
    "### GENERATE DATASET"
   ]
  },
  {
   "cell_type": "code",
   "execution_count": 7,
   "metadata": {},
   "outputs": [
    {
     "name": "stdout",
     "output_type": "stream",
     "text": [
      "10000 784 2\n"
     ]
    }
   ],
   "source": [
    "num_datapoints = x_train.shape[1]\n",
    "data_dim = x_train.shape[0]\n",
    "latent_dim = 2\n",
    "stddev_datapoints = 0.5\n",
    "\n",
    "# model = ppca_model(data_dim=data_dim,\n",
    "#                    latent_dim=latent_dim,\n",
    "#                    num_datapoints=num_datapoints,\n",
    "#                    stddev_datapoints=stddev_datapoints)\n",
    "\n",
    "# with tf.Session() as sess:\n",
    "#     x_train, (actual_w, actual_z) = sess.run(model)\n",
    "    \n",
    "# print(\"Principal axes: \")\n",
    "# print(actual_w)\n",
    "print(num_datapoints, data_dim, latent_dim)"
   ]
  },
  {
   "cell_type": "code",
   "execution_count": null,
   "metadata": {},
   "outputs": [],
   "source": [
    "plt.scatter(x_train[0,:], x_train[1,:], color='blue', alpha=0.1)\n",
    "plt.axis([-10, 10, -10, 10])\n",
    "plt.title(\"Original Dataset\")\n",
    "plt.show()"
   ]
  },
  {
   "cell_type": "markdown",
   "metadata": {},
   "source": [
    "### MAP: Maximum A Posterior Inference\n",
    "\n",
    "+ **Goal**: find the point estimate of laten variables that maximizes the posterior probability density (maximum a posterior inference).\n",
    "+ **Note**: The point-estimate methods find the exact values for each latent var. The variational methods find the probability distribution of the value of each latent var.\n",
    "+ **How**: Calculating the values of $\\mathbf{W}$ and $\\mathbf{Z}$ that maxmize the posterior density: $p(\\mathbf{W}, \\mathbf{Z} | \\mathbf{X})\\propto p(\\mathbf{W}, \\mathbf{Z}, \\mathbf{X})$.\n",
    "Note that the `log_joint` function created by `ed.make_log_joint_fn` will represent for the log of the joint distribution of all variables in the model."
   ]
  },
  {
   "cell_type": "code",
   "execution_count": null,
   "metadata": {},
   "outputs": [],
   "source": [
    "# what we actually want to find is `w` and `z`\n",
    "# we have had their asumption \"prior\" values.\n",
    "# we need to use the observed data `x` to do inference:\n",
    "# that means, to transfer the prior to the posterior\n",
    "# and the final expected results will be in `w_inferred_map` and `z_inferred_map`"
   ]
  },
  {
   "cell_type": "code",
   "execution_count": 8,
   "metadata": {},
   "outputs": [],
   "source": [
    "# first, define `w` and `z` as variable in the model\n",
    "\n",
    "tf.reset_default_graph()\n",
    "\n",
    "w = tf.Variable(np.ones([data_dim, latent_dim]), dtype=tf.float32)\n",
    "z = tf.Variable(np.ones([latent_dim, num_datapoints]), dtype=tf.float32)"
   ]
  },
  {
   "cell_type": "code",
   "execution_count": 9,
   "metadata": {},
   "outputs": [],
   "source": [
    "# second, define a target function, which is an \"unnormalized target density\".\n",
    "# as a function of the parameters `w`, `z`\n",
    "# Note that we want to maximize the posterior distr.\n",
    "# which is proportional to the joint distribution of the model\n",
    "# -> the target function to maximize is exactly the joint distr. function\n",
    "def target(w, z):\n",
    "    return log_joint(data_dim=data_dim,\n",
    "              latent_dim=latent_dim,\n",
    "              num_datapoints=num_datapoints,\n",
    "              stddev_datapoints=stddev_datapoints,\n",
    "              w=w, z=z, x=x_train)"
   ]
  },
  {
   "cell_type": "code",
   "execution_count": 10,
   "metadata": {},
   "outputs": [],
   "source": [
    "# third, define the \"energy function\", which is the opposite of target function\n",
    "# we will use the off-the-shelf optimization module which minimize an objective function\n",
    "# that's why we conver the maximization prob. to mizimization one\n",
    "energy = - target(w, z)\n",
    "\n",
    "optimizer = tf.train.AdamOptimizer(learning_rate=0.05)\n",
    "train = optimizer.minimize(energy)"
   ]
  },
  {
   "cell_type": "code",
   "execution_count": 17,
   "metadata": {},
   "outputs": [
    {
     "name": "stdout",
     "output_type": "stream",
     "text": [
      "Loss at epoch 0 = 113888133120.0\n",
      "Loss at epoch 10 = 111201165312.0\n",
      "Loss at epoch 20 = 107653693440.0\n",
      "Loss at epoch 30 = 103101472768.0\n",
      "Loss at epoch 40 = 97626677248.0\n",
      "Loss at epoch 50 = 91828658176.0\n",
      "Loss at epoch 60 = 85999165440.0\n",
      "Loss at epoch 70 = 80641753088.0\n",
      "Loss at epoch 80 = 76095111168.0\n",
      "Loss at epoch 90 = 72525217792.0\n",
      "Loss at epoch 100 = 69906407424.0\n",
      "Loss at epoch 110 = 68096954368.0\n",
      "Loss at epoch 120 = 66896343040.0\n",
      "Loss at epoch 130 = 66116091904.0\n",
      "Loss at epoch 140 = 65610006528.0\n",
      "Loss at epoch 150 = 65281036288.0\n",
      "Loss at epoch 160 = 65065246720.0\n",
      "Loss at epoch 170 = 64922980352.0\n",
      "Loss at epoch 180 = 64828551168.0\n",
      "Loss at epoch 190 = 64765550592.0\n",
      "Loss at epoch 200 = 64723021824.0\n",
      "Loss at epoch 210 = 64694267904.0\n",
      "Loss at epoch 220 = 64674672640.0\n",
      "Loss at epoch 230 = 64661024768.0\n",
      "Loss at epoch 240 = 64651362304.0\n",
      "Loss at epoch 250 = 64644878336.0\n",
      "Loss at epoch 260 = 64640163840.0\n",
      "Loss at epoch 270 = 64636887040.0\n",
      "Loss at epoch 280 = 64634527744.0\n",
      "Loss at epoch 290 = 64632832000.0\n",
      "Loss at epoch 300 = 64631664640.0\n",
      "Loss at epoch 310 = 64630788096.0\n",
      "Loss at epoch 320 = 64630194176.0\n",
      "Loss at epoch 330 = 64629751808.0\n",
      "Loss at epoch 340 = 64629370880.0\n",
      "Loss at epoch 350 = 64629166080.0\n",
      "Loss at epoch 360 = 64629002240.0\n",
      "Loss at epoch 370 = 64628858880.0\n",
      "Loss at epoch 380 = 64628789248.0\n",
      "Loss at epoch 390 = 64628699136.0\n",
      "Loss at epoch 400 = 64628690944.0\n",
      "Loss at epoch 410 = 64628666368.0\n",
      "Loss at epoch 420 = 64628645888.0\n",
      "Loss at epoch 430 = 64628613120.0\n",
      "Loss at epoch 440 = 64628568064.0\n",
      "Loss at epoch 450 = 64628588544.0\n",
      "Loss at epoch 460 = 64628576256.0\n",
      "Loss at epoch 470 = 64628576256.0\n",
      "Loss at epoch 480 = 64628559872.0\n",
      "Loss at epoch 490 = 64628551680.0\n"
     ]
    }
   ],
   "source": [
    "# Learning params === Infering\n",
    "\n",
    "init = tf.global_variables_initializer()\n",
    "\n",
    "t = []\n",
    "\n",
    "num_epochs = 500\n",
    "\n",
    "with tf.Session() as sess:\n",
    "    # init all variables\n",
    "    sess.run(init)\n",
    "    \n",
    "    # start to train\n",
    "    for i in range(num_epochs):\n",
    "        sess.run(train)\n",
    "                \n",
    "        if i % 10 == 0:\n",
    "            # get snapshot of the current values of function and vars\n",
    "            cE, cw, cz = sess.run([energy, w, z])\n",
    "            print(\"Loss at epoch {} = {}\".format(i,cE))\n",
    "            t.append(cE)\n",
    "    \n",
    "    # when finishing the training, get the learned values of the variables\n",
    "    w_inferred_map = sess.run(w)\n",
    "    z_inferred_map = sess.run(z)"
   ]
  },
  {
   "cell_type": "code",
   "execution_count": 18,
   "metadata": {},
   "outputs": [
    {
     "data": {
      "image/png": "[encoded data removed]",
      "text/plain": [
       "<Figure size 432x288 with 1 Axes>"
      ]
     },
     "metadata": {},
     "output_type": "display_data"
    }
   ],
   "source": [
    "x = range(1, num_epochs, 10)\n",
    "plt.plot(x, t)\n",
    "plt.show()"
   ]
  },
  {
   "cell_type": "code",
   "execution_count": 19,
   "metadata": {},
   "outputs": [
    {
     "name": "stdout",
     "output_type": "stream",
     "text": [
      "MAP estimated axes:\n",
      "[[-6.851531e-13 -6.851531e-13]\n",
      " [-6.851531e-13 -6.851531e-13]\n",
      " [-6.851531e-13 -6.851531e-13]\n",
      " ...\n",
      " [-6.851531e-13 -6.851531e-13]\n",
      " [-6.851531e-13 -6.851531e-13]\n",
      " [-6.851531e-13 -6.851531e-13]]\n"
     ]
    }
   ],
   "source": [
    "# print(\"Principal axes: \")\n",
    "# print(actual_w)\n",
    "\n",
    "print(\"MAP estimated axes:\")\n",
    "print(w_inferred_map)"
   ]
  },
  {
   "cell_type": "markdown",
   "metadata": {},
   "source": [
    "### Model criticism"
   ]
  },
  {
   "cell_type": "code",
   "execution_count": null,
   "metadata": {},
   "outputs": [],
   "source": [
    "# using Edward2 model to sample data from inferred values of W and Z\n",
    "\n",
    "def replace_latents(w=actual_w, z=actual_z):\n",
    "    def interceptor(rv_constructor, *rv_args, **rv_kwargs):\n",
    "        \"\"\"Replace the prior with actual values to generate samples from.\"\"\"\n",
    "        name = rv_kwargs.pop(\"name\")\n",
    "        if name == \"w\":\n",
    "            rv_kwargs[\"value\"] = w\n",
    "        elif name == \"z\":\n",
    "            rv_kwargs[\"value\"] = z\n",
    "        return rv_constructor(*rv_args, **rv_kwargs)\n",
    "    \n",
    "    return interceptor\n",
    "\n",
    "\n",
    "with ed.interception(replace_latents(w_inferred_map, z_inferred_map)):\n",
    "    generative_process = ppca_model(\n",
    "        data_dim=data_dim, latent_dim=latent_dim,\n",
    "        num_datapoints=num_datapoints, stddev_datapoints=stddev_datapoints\n",
    "    )\n",
    "    \n",
    "with tf.Session() as sess:\n",
    "    x_generated, _ = sess.run(generative_process)"
   ]
  },
  {
   "cell_type": "code",
   "execution_count": null,
   "metadata": {},
   "outputs": [],
   "source": [
    "# compare the actual data with the simulated data \n",
    "# which is generated from the joint model with the MAP estimated `w` and `z`\n",
    "\n",
    "plt.scatter(x_train[0, :], x_train[1, :], color='blue', alpha=0.1, label='Actual data')\n",
    "plt.scatter(x_generated[0, :], x_generated[1, :], color='red', alpha=0.1, label='Simulated MAP')\n",
    "plt.legend()\n",
    "# plt.axis([-20, 20, -20, 20])\n",
    "plt.show()"
   ]
  },
  {
   "cell_type": "code",
   "execution_count": null,
   "metadata": {},
   "outputs": [],
   "source": [
    "# plt.scatter(x_train[0, :], x_train[1, :], color='blue', alpha=0.05, label='Actual data')\n",
    "# plt.plot([-w_inferred_map[0][0], w_inferred_map[0][0]], [-w_inferred_map[1][0], w_inferred_map[1][0]])\n",
    "# plt.show()"
   ]
  },
  {
   "cell_type": "code",
   "execution_count": null,
   "metadata": {},
   "outputs": [],
   "source": [
    "print(w_inferred_map)"
   ]
  },
  {
   "cell_type": "code",
   "execution_count": 20,
   "metadata": {},
   "outputs": [
    {
     "data": {
      "image/png": "[encoded data removed]",
      "text/plain": [
       "<Figure size 432x288 with 1 Axes>"
      ]
     },
     "metadata": {},
     "output_type": "display_data"
    }
   ],
   "source": [
    "plt.scatter(z_inferred_map[0, :], z_inferred_map[1, :], c=y_train)\n",
    "# for i in range(data_dim):\n",
    "#     vx, vy = w_inferred_map[i] / np.linalg.norm(w_inferred_map[i])\n",
    "#     print(vx, vy)\n",
    "#     plt.plot([0,vx], [0,vy])\n",
    "plt.show()"
   ]
  },
  {
   "cell_type": "code",
   "execution_count": null,
   "metadata": {},
   "outputs": [],
   "source": []
  }
 ],
 "metadata": {
  "kernelspec": {
   "display_name": "Python 3",
   "language": "python",
   "name": "python3"
  },
  "language_info": {
   "codemirror_mode": {
    "name": "ipython",
    "version": 3
   },
   "file_extension": ".py",
   "mimetype": "text/x-python",
   "name": "python",
   "nbconvert_exporter": "python",
   "pygments_lexer": "ipython3",
   "version": "3.6.2"
  }
 },
 "nbformat": 4,
 "nbformat_minor": 2
}
