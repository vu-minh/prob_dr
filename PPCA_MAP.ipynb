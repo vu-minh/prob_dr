{
 "cells": [
  {
   "cell_type": "code",
   "execution_count": 33,
   "metadata": {},
   "outputs": [],
   "source": [
    "import matplotlib.pyplot as plt\n",
    "import numpy as np\n",
    "import seaborn as sns\n",
    "\n",
    "import tensorflow as tf\n",
    "import tensorflow_probability as tfp\n",
    "from tensorflow_probability import edward2 as ed\n",
    "import warnings\n",
    "\n",
    "plt.style.use(\"ggplot\")\n",
    "warnings.filterwarnings('ignore')"
   ]
  },
  {
   "cell_type": "markdown",
   "metadata": {},
   "source": [
    "+ Marginal distribution of each data point:**\n",
    "\n",
    "\\begin{equation*}\n",
    "\\mathbf{x}_n \\sim \\mathcal{N}(\\mathbf{0}, \\mathbf{W} \\mathbf{W}^T + \\sigma^2 \\mathbf{I})\n",
    "\\end{equation*}\n",
    "\n",
    "+ Create a model as follow:\n",
    "    * $\\mathbf{z}_n \\sim \\mathcal{N}(\\mathbf{0}, \\mathbf{I})$\n",
    "    * $\\mathbf{W} \\sim \\mathcal{N}(\\mathbf{0}, 2 \\mathbf{I})$\n",
    "    * $\\mathbf{x}_n | \\mathbf{z}_n \\sim \\mathcal{N}(\n",
    "        \\mathbf{W} \\mathbf{z}_n, \\sigma^2 \\mathbf{T} \n",
    "      )$\n"
   ]
  },
  {
   "cell_type": "code",
   "execution_count": 34,
   "metadata": {},
   "outputs": [],
   "source": [
    "def ppca_model(data_dim, latent_dim, num_datapoints, stddev_datapoints):\n",
    "    w = ed.Normal(loc=tf.zeros([data_dim, latent_dim]),\n",
    "                  scale=2.0 * tf.ones([data_dim, latent_dim]),\n",
    "                  name=\"w\") # parameter\n",
    "    z = ed.Normal(loc=tf.zeros([latent_dim, num_datapoints]),\n",
    "                  scale=tf.ones([latent_dim, num_datapoints]),\n",
    "                  name=\"z\") # parameter\n",
    "    x = ed.Normal(loc=tf.matmul(w, z),\n",
    "                  scale=stddev_datapoints * tf.ones([data_dim, num_datapoints]),\n",
    "                  name=\"x\") # modeled (observed) data\n",
    "    return x, (w, z)\n",
    "\n",
    "log_joint = ed.make_log_joint_fn(ppca_model)"
   ]
  },
  {
   "cell_type": "markdown",
   "metadata": {},
   "source": [
    "### GENERATE DATASET"
   ]
  },
  {
   "cell_type": "code",
   "execution_count": 37,
   "metadata": {},
   "outputs": [
    {
     "name": "stdout",
     "output_type": "stream",
     "text": [
      "Principal axes: \n",
      "[[ 0.52401525]\n",
      " [-3.7824962 ]]\n"
     ]
    }
   ],
   "source": [
    "num_datapoints = 5000\n",
    "data_dim = 2\n",
    "latent_dim = 1\n",
    "stddev_datapoints = 0.5\n",
    "\n",
    "model = ppca_model(data_dim=data_dim,\n",
    "                   latent_dim=latent_dim,\n",
    "                   num_datapoints=num_datapoints,\n",
    "                   stddev_datapoints=stddev_datapoints)\n",
    "\n",
    "with tf.Session() as sess:\n",
    "    x_train, (actual_w, actual_z) = sess.run(model)\n",
    "    \n",
    "print(\"Principal axes: \")\n",
    "print(actual_w)"
   ]
  },
  {
   "cell_type": "code",
   "execution_count": 38,
   "metadata": {},
   "outputs": [
    {
     "data": {
      "image/png": "[encoded data removed]",
      "text/plain": [
       "<Figure size 432x288 with 1 Axes>"
      ]
     },
     "metadata": {},
     "output_type": "display_data"
    }
   ],
   "source": [
    "plt.scatter(x_train[0,:], x_train[1,:], color='blue', alpha=0.1)\n",
    "plt.axis([-20, 20, -20, 20])\n",
    "plt.title(\"Original Dataset\")\n",
    "plt.plot(actual_z)\n",
    "plt.show()"
   ]
  },
  {
   "cell_type": "markdown",
   "metadata": {},
   "source": [
    "### MAP: Maximum A Posterior Inference\n",
    "\n",
    "+ **Goal**: find the point estimate of laten variables that maximizes the posterior probability density (maximum a posterior inference).\n",
    "+ **Note**: The point-estimate methods find the exact values for each latent var. The variational methods find the probability distribution of the value of each latent var.\n",
    "+ **How**: Calculating the values of $\\mathbf{W}$ and $\\mathbf{Z}$ that maxmize the posterior density: $p(\\mathbf{W}, \\mathbf{Z} | \\mathbf{X})\\propto p(\\mathbf{W}, \\mathbf{Z}, \\mathbf{X})$.\n",
    "Note that the `log_joint` function created by `ed.make_log_joint_fn` will represent for the log of the joint distribution of all variables in the model."
   ]
  },
  {
   "cell_type": "code",
   "execution_count": 38,
   "metadata": {},
   "outputs": [],
   "source": [
    "# what we actually want to find is `w` and `z`\n",
    "# we have had their asumption \"prior\" values.\n",
    "# we need to use the observed data `x` to do inference:\n",
    "# that means, to transfer the prior to the posterior\n",
    "# and the final expected results will be in `w_inferred_map` and `z_inferred_map`"
   ]
  },
  {
   "cell_type": "code",
   "execution_count": 39,
   "metadata": {},
   "outputs": [],
   "source": [
    "# first, define `w` and `z` as variable in the model\n",
    "\n",
    "tf.reset_default_graph()\n",
    "\n",
    "w = tf.Variable(np.ones([data_dim, latent_dim]), dtype=tf.float32)\n",
    "z = tf.Variable(np.ones([latent_dim, num_datapoints]), dtype=tf.float32)"
   ]
  },
  {
   "cell_type": "code",
   "execution_count": 40,
   "metadata": {},
   "outputs": [],
   "source": [
    "# second, define a target function, which is an \"unnormalized target density\".\n",
    "# as a function of the parameters `w`, `z`\n",
    "# Note that we want to maximize the posterior distr.\n",
    "# which is proportional to the joint distribution of the model\n",
    "# -> the target function to maximize is exactly the joint distr. function\n",
    "def target(w, z):\n",
    "    return log_joint(data_dim=data_dim,\n",
    "              latent_dim=latent_dim,\n",
    "              num_datapoints=num_datapoints,\n",
    "              stddev_datapoints=stddev_datapoints,\n",
    "              w=w, z=z, x=x_train)"
   ]
  },
  {
   "cell_type": "code",
   "execution_count": 41,
   "metadata": {},
   "outputs": [],
   "source": [
    "# third, define the \"energy function\", which is the opposite of target function\n",
    "# we will use the off-the-shelf optimization module which minimize an objective function\n",
    "# that's why we conver the maximization prob. to mizimization one\n",
    "energy = - target(w, z)\n",
    "\n",
    "optimizer = tf.train.AdamOptimizer(learning_rate=0.05)\n",
    "train = optimizer.minimize(energy)"
   ]
  },
  {
   "cell_type": "code",
   "execution_count": 42,
   "metadata": {},
   "outputs": [],
   "source": [
    "# Learning params === Infering\n",
    "\n",
    "init = tf.global_variables_initializer()\n",
    "\n",
    "t = []\n",
    "\n",
    "num_epochs = 200\n",
    "\n",
    "with tf.Session() as sess:\n",
    "    # init all variables\n",
    "    sess.run(init)\n",
    "    \n",
    "    # start to train\n",
    "    for i in range(num_epochs):\n",
    "        sess.run(train)\n",
    "        \n",
    "        if i % 5 == 0:\n",
    "            # get snapshot of the current values of function and vars\n",
    "            cE, cw, cz = sess.run([energy, w, z])\n",
    "            t.append(cE)\n",
    "    \n",
    "    # when finishing the training, get the learned values of the variables\n",
    "    w_inferred_map = sess.run(w)\n",
    "    z_inferred_map = sess.run(z)"
   ]
  },
  {
   "cell_type": "code",
   "execution_count": 43,
   "metadata": {},
   "outputs": [
    {
     "data": {
      "image/png": "[encoded data removed]",
      "text/plain": [
       "<Figure size 432x288 with 1 Axes>"
      ]
     },
     "metadata": {},
     "output_type": "display_data"
    }
   ],
   "source": [
    "x = range(1, num_epochs, 5)\n",
    "plt.plot(x, t)\n",
    "plt.show()"
   ]
  },
  {
   "cell_type": "code",
   "execution_count": 44,
   "metadata": {},
   "outputs": [
    {
     "name": "stdout",
     "output_type": "stream",
     "text": [
      "Principal axes: \n",
      "[[ 0.52401525]\n",
      " [-3.7824962 ]]\n",
      "MAP estimated axes:\n",
      "[[-0.48563898]\n",
      " [ 3.4344344 ]]\n"
     ]
    }
   ],
   "source": [
    "print(\"Principal axes: \")\n",
    "print(actual_w)\n",
    "\n",
    "print(\"MAP estimated axes:\")\n",
    "print(w_inferred_map)"
   ]
  },
  {
   "cell_type": "markdown",
   "metadata": {},
   "source": [
    "### Model criticism"
   ]
  },
  {
   "cell_type": "code",
   "execution_count": 45,
   "metadata": {},
   "outputs": [],
   "source": [
    "# using Edward2 model to sample data from inferred values of W and Z\n",
    "\n",
    "def replace_latents(w=actual_w, z=actual_z):\n",
    "    def interceptor(rv_constructor, *rv_args, **rv_kwargs):\n",
    "        \"\"\"Replace the prior with actual values to generate samples from.\"\"\"\n",
    "        name = rv_kwargs.pop(\"name\")\n",
    "        if name == \"w\":\n",
    "            rv_kwargs[\"value\"] = w\n",
    "        elif name == \"z\":\n",
    "            rv_kwargs[\"value\"] = z\n",
    "        return rv_constructor(*rv_args, **rv_kwargs)\n",
    "    \n",
    "    return interceptor\n",
    "\n",
    "\n",
    "with ed.interception(replace_latents(w_inferred_map, z_inferred_map)):\n",
    "    generative_process = ppca_model(\n",
    "        data_dim=data_dim, latent_dim=latent_dim,\n",
    "        num_datapoints=num_datapoints, stddev_datapoints=stddev_datapoints\n",
    "    )\n",
    "    \n",
    "with tf.Session() as sess:\n",
    "    x_generated, _ = sess.run(generative_process)"
   ]
  },
  {
   "cell_type": "code",
   "execution_count": 46,
   "metadata": {},
   "outputs": [
    {
     "data": {
      "image/png": "[encoded data removed]",
      "text/plain": [
       "<Figure size 432x288 with 1 Axes>"
      ]
     },
     "metadata": {},
     "output_type": "display_data"
    }
   ],
   "source": [
    "# compare the actual data with the simulated data \n",
    "# which is generated from the joint model with the MAP estimated `w` and `z`\n",
    "\n",
    "plt.scatter(x_train[0, :], x_train[1, :], color='blue', alpha=0.1, label='Actual data')\n",
    "plt.scatter(x_generated[0, :], x_generated[1, :], color='red', alpha=0.1, label='Simulated MAP')\n",
    "plt.legend()\n",
    "plt.axis([-20, 20, -20, 20])\n",
    "plt.show()"
   ]
  }
 ],
 "metadata": {
  "kernelspec": {
   "display_name": "Python 3",
   "language": "python",
   "name": "python3"
  },
  "language_info": {
   "codemirror_mode": {
    "name": "ipython",
    "version": 3
   },
   "file_extension": ".py",
   "mimetype": "text/x-python",
   "name": "python",
   "nbconvert_exporter": "python",
   "pygments_lexer": "ipython3",
   "version": "3.6.2"
  }
 },
 "nbformat": 4,
 "nbformat_minor": 2
}
