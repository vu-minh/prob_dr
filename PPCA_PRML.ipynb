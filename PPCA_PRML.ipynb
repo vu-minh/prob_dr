{
 "cells": [
  {
   "cell_type": "markdown",
   "metadata": {},
   "source": [
    "### Implementation of PRML book.\n",
    "Repo: https://github.com/ctgk/PRML"
   ]
  },
  {
   "cell_type": "code",
   "execution_count": 23,
   "metadata": {},
   "outputs": [],
   "source": [
    "# source: https://github.com/ctgk/PRML/blob/master/prml/feature_extractions/pca.py\n",
    "\n",
    "import numpy as np\n",
    "\n",
    "class PCA(object):\n",
    "\n",
    "    def __init__(self, n_components):\n",
    "        \"\"\"\n",
    "        construct principal component analysis\n",
    "\n",
    "        Parameters\n",
    "        ----------\n",
    "        n_components : int\n",
    "            number of components\n",
    "        \"\"\"\n",
    "        assert isinstance(n_components, int)\n",
    "        self.n_components = n_components\n",
    "\n",
    "    def fit(self, X, method=\"eigen\", iter_max=100):\n",
    "        \"\"\"\n",
    "        maximum likelihood estimate of pca parameters\n",
    "        x ~ \\int_z N(x|Wz+mu,sigma^2)N(z|0,I)dz\n",
    "\n",
    "        Parameters\n",
    "        ----------\n",
    "        X : (sample_size, n_features) ndarray\n",
    "            input data\n",
    "        method : str\n",
    "            method to estimate the parameters\n",
    "            [\"eigen\", \"em\"]\n",
    "        iter_max : int\n",
    "            maximum number of iterations for em algorithm\n",
    "\n",
    "        Attributes\n",
    "        ----------\n",
    "        mean : (n_features,) ndarray\n",
    "            sample mean of the data\n",
    "        W : (n_features, n_components) ndarray\n",
    "            projection matrix\n",
    "        var : float\n",
    "            variance of observation noise\n",
    "        C : (n_features, n_features) ndarray\n",
    "            variance of the marginal dist N(x|mean,C)\n",
    "        Cinv : (n_features, n_features) ndarray\n",
    "            precision of the marginal dist N(x|mean, C)\n",
    "        \"\"\"\n",
    "        method_list = [\"eigen\", \"em\"]\n",
    "        if method not in method_list:\n",
    "            print(\"availabel methods are {}\".format(method_list))\n",
    "        self.mean = np.mean(X, axis=0)\n",
    "        getattr(self, method)(X - self.mean, iter_max)\n",
    "\n",
    "    def eigen(self, X, *arg):\n",
    "        sample_size, n_features = X.shape\n",
    "        if sample_size >= n_features:\n",
    "            cov = np.cov(X, rowvar=False)\n",
    "            values, vectors = np.linalg.eigh(cov)\n",
    "            index = n_features - self.n_components\n",
    "        else:\n",
    "            cov = np.cov(X)\n",
    "            values, vectors = np.linalg.eigh(cov)\n",
    "            vectors = (X.T @ vectors) / np.sqrt(sample_size * values)\n",
    "            index = sample_size - self.n_components\n",
    "        self.I = np.eye(self.n_components)\n",
    "        if index == 0:\n",
    "            self.var = 0\n",
    "        else:\n",
    "            self.var = np.mean(values[:index])\n",
    "\n",
    "        self.W = vectors[:, index:].dot(np.sqrt(np.diag(values[index:]) - self.var * self.I))\n",
    "        self.__M = self.W.T @ self.W + self.var * self.I\n",
    "        self.C = self.W @ self.W.T + self.var * np.eye(n_features)\n",
    "        if index == 0:\n",
    "            self.Cinv = np.linalg.inv(self.C)\n",
    "        else:\n",
    "            self.Cinv = np.eye(n_features) / np.sqrt(self.var) - self.W @ np.linalg.inv(self.__M) @ self.W.T / self.var\n",
    "\n",
    "    def em(self, X, iter_max):\n",
    "        self.I = np.eye(self.n_components)\n",
    "        self.W = np.eye(np.size(X, 1), self.n_components)\n",
    "        self.var = 1.\n",
    "        for i in range(iter_max):\n",
    "            W = np.copy(self.W)\n",
    "            stats = self._expectation(X)\n",
    "            self._maximization(X, *stats)\n",
    "            if np.allclose(W, self.W):\n",
    "                print('Finish after {} iterations'.format(i))\n",
    "                break\n",
    "        self.C = self.W @ self.W.T + self.var * np.eye(np.size(X, 1))\n",
    "        self.Cinv = np.linalg.inv(self.C)\n",
    "\n",
    "    def _expectation(self, X):\n",
    "        self.__M = self.W.T @ self.W + self.var * self.I\n",
    "        Minv = np.linalg.inv(self.__M)\n",
    "        Ez = X @ self.W @ Minv\n",
    "        Ezz = self.var * Minv + Ez[:, :, None] * Ez[:, None, :]\n",
    "        return Ez, Ezz\n",
    "\n",
    "    def _maximization(self, X, Ez, Ezz):\n",
    "        self.W = X.T @ Ez @ np.linalg.inv(np.sum(Ezz, axis=0))\n",
    "        self.var = np.mean(\n",
    "            np.mean(X ** 2, axis=1)\n",
    "            - 2 * np.mean(Ez @ self.W.T * X, axis=1)\n",
    "            + np.trace((Ezz @ self.W.T @ self.W).T) / np.size(X, 1))\n",
    "\n",
    "    def transform(self, X):\n",
    "        \"\"\"\n",
    "        project input data into latent space\n",
    "        p(Z|X) = N(Z|(X-mu)WMinv, sigma^-2M)\n",
    "\n",
    "        Parameters\n",
    "        ----------\n",
    "        X : (sample_size, n_features) ndarray\n",
    "            input data\n",
    "\n",
    "        Returns\n",
    "        -------\n",
    "        Z : (sample_size, n_components) ndarray\n",
    "            projected input data\n",
    "        \"\"\"\n",
    "        return np.linalg.solve(self.__M, ((X - self.mean) @ self.W).T).T\n",
    "\n",
    "    def fit_transform(self, X, method=\"eigen\"):\n",
    "        \"\"\"\n",
    "        perform pca and whiten the input data\n",
    "\n",
    "        Parameters\n",
    "        ----------\n",
    "        X : (sample_size, n_features) ndarray\n",
    "            input data\n",
    "\n",
    "        Returns\n",
    "        -------\n",
    "        Z : (sample_size, n_components) ndarray\n",
    "            projected input data\n",
    "        \"\"\"\n",
    "        self.fit(X, method)\n",
    "        return self.transform(X)\n",
    "\n",
    "    def proba(self, X):\n",
    "        \"\"\"\n",
    "        the marginal distribution of the observed variable\n",
    "\n",
    "        Parameters\n",
    "        ----------\n",
    "        X : (sample_size, n_features) ndarray\n",
    "            input data\n",
    "\n",
    "        Returns\n",
    "        -------\n",
    "        p : (sample_size,) ndarray\n",
    "            value of the marginal distribution\n",
    "        \"\"\"\n",
    "        d = X - self.mean\n",
    "        return (\n",
    "            np.exp(-0.5 * np.sum(d @ self.Cinv * d, axis=-1))\n",
    "            / np.sqrt(np.linalg.det(self.C))\n",
    "            / np.power(2 * np.pi, 0.5 * np.size(X, 1)))"
   ]
  },
  {
   "cell_type": "code",
   "execution_count": 24,
   "metadata": {},
   "outputs": [],
   "source": [
    "# source: https://github.com/ctgk/PRML/blob/master/prml/feature_extractions/bayesian_pca.py\n",
    "\n",
    "class BayesianPCA(PCA):\n",
    "\n",
    "    def fit(self, X, iter_max=100, initial=\"random\"):\n",
    "        \"\"\"\n",
    "        empirical bayes estimation of pca parameters\n",
    "        Parameters\n",
    "        ----------\n",
    "        X : (sample_size, n_features) ndarray\n",
    "            input data\n",
    "        iter_max : int\n",
    "            maximum number of em steps\n",
    "        Returns\n",
    "        -------\n",
    "        mean : (n_features,) ndarray\n",
    "            sample mean fo the input data\n",
    "        W : (n_features, n_components) ndarray\n",
    "            projection matrix\n",
    "        var : float\n",
    "            variance of observation noise\n",
    "        \"\"\"\n",
    "        initial_list = [\"random\", \"eigen\"]\n",
    "        self.mean = np.mean(X, axis=0)\n",
    "        self.I = np.eye(self.n_components)\n",
    "        if initial not in initial_list:\n",
    "            print(\"availabel initializations are {}\".format(initial_list))\n",
    "        if initial == \"random\":\n",
    "            self.W = np.eye(np.size(X, 1), self.n_components)\n",
    "            self.var = 1.\n",
    "        elif initial == \"eigen\":\n",
    "            self.eigen(X)\n",
    "        self.alpha = len(self.mean) / np.sum(self.W ** 2, axis=0).clip(min=1e-10)\n",
    "        for i in range(iter_max):\n",
    "            W = np.copy(self.W)\n",
    "            stats = self._expectation(X - self.mean)\n",
    "            self._maximization(X - self.mean, *stats)\n",
    "            self.alpha = len(self.mean) / np.sum(self.W ** 2, axis=0).clip(min=1e-10)\n",
    "            if np.allclose(W, self.W):\n",
    "                print('Finish after {} iterations'.format(i))\n",
    "                break\n",
    "        self.n_iter = i + 1\n",
    "\n",
    "    def _maximization(self, X, Ez, Ezz):\n",
    "        self.W = X.T @ Ez @ np.linalg.inv(np.sum(Ezz, axis=0) + self.var * np.diag(self.alpha))\n",
    "        self.var = np.mean(\n",
    "            np.mean(X ** 2, axis=-1)\n",
    "            - 2 * np.mean(Ez @ self.W.T * X, axis=-1)\n",
    "            + np.trace((Ezz @ self.W.T @ self.W).T) / len(self.mean))\n",
    "\n",
    "    def maximize(self, D, Ez, Ezz):\n",
    "        self.W = D.T.dot(Ez).dot(np.linalg.inv(np.sum(Ezz, axis=0) + self.var * np.diag(self.alpha)))\n",
    "        self.var = np.mean(\n",
    "            np.mean(D ** 2, axis=-1)\n",
    "            - 2 * np.mean(Ez.dot(self.W.T) * D, axis=-1)\n",
    "            + np.trace(Ezz.dot(self.W.T).dot(self.W).T) / self.ndim)"
   ]
  },
  {
   "cell_type": "code",
   "execution_count": 25,
   "metadata": {},
   "outputs": [],
   "source": [
    "from matplotlib import pyplot as plt\n",
    "from sklearn.preprocessing import StandardScaler\n",
    "from sklearn.datasets import load_iris, load_digits\n",
    "%matplotlib inline"
   ]
  },
  {
   "cell_type": "code",
   "execution_count": 26,
   "metadata": {},
   "outputs": [],
   "source": [
    "np.random.seed(1024)"
   ]
  },
  {
   "cell_type": "code",
   "execution_count": 91,
   "metadata": {},
   "outputs": [],
   "source": [
    "# dataset = load_iris()\n",
    "dataset = load_digits()\n",
    "X, y = dataset.data, dataset.target\n",
    "X = StandardScaler().fit_transform(X)"
   ]
  },
  {
   "cell_type": "code",
   "execution_count": 27,
   "metadata": {},
   "outputs": [],
   "source": [
    "from observations import iris, mnist\n",
    "DATA_DIR = './data'"
   ]
  },
  {
   "cell_type": "code",
   "execution_count": 28,
   "metadata": {},
   "outputs": [],
   "source": [
    "selected_classes = [0,1]\n",
    "num_datapoints = 5000\n",
    "def load_mnist():\n",
    "    (x_train, y_train), (x_test, y_test) = mnist(DATA_DIR)\n",
    "    mask = [True if yclass in selected_classes else False for yclass in y_train]\n",
    "    x_train = x_train[mask][:num_datapoints]\n",
    "    y_class = y_train[mask][:num_datapoints]\n",
    "    return x_train, y_class\n",
    "\n",
    "X, y = load_mnist()"
   ]
  },
  {
   "cell_type": "code",
   "execution_count": 29,
   "metadata": {},
   "outputs": [
    {
     "name": "stdout",
     "output_type": "stream",
     "text": [
      "Finish after 1 iterations\n"
     ]
    },
    {
     "data": {
      "image/png": "[encoded data removed]",
      "text/plain": [
       "<Figure size 432x288 with 1 Axes>"
      ]
     },
     "metadata": {},
     "output_type": "display_data"
    }
   ],
   "source": [
    "pca = PCA(n_components=2)\n",
    "pca.fit(X, method=\"em\", iter_max=int(1e2)) #[\"em\", \"eigen\"]\n",
    "X2d = pca.transform(X)\n",
    "plt.scatter(X2d[:,0], X2d[:,1], c=y)\n",
    "plt.show()"
   ]
  },
  {
   "cell_type": "code",
   "execution_count": 31,
   "metadata": {},
   "outputs": [
    {
     "name": "stdout",
     "output_type": "stream",
     "text": [
      "Finish after 1 iterations\n"
     ]
    },
    {
     "data": {
      "image/png": "[encoded data removed]",
      "text/plain": [
       "<Figure size 432x288 with 1 Axes>"
      ]
     },
     "metadata": {},
     "output_type": "display_data"
    }
   ],
   "source": [
    "bpca = BayesianPCA(n_components=2)\n",
    "bpca.fit(X, iter_max=int(1e2), initial=\"random\") #[\"random\", \"eigen\"]\n",
    "X2d = bpca.transform(X)\n",
    "plt.scatter(X2d[:,0], X2d[:,1], c=y)\n",
    "plt.show()"
   ]
  },
  {
   "cell_type": "code",
   "execution_count": null,
   "metadata": {},
   "outputs": [],
   "source": []
  }
 ],
 "metadata": {
  "kernelspec": {
   "display_name": "Python 3",
   "language": "python",
   "name": "python3"
  },
  "language_info": {
   "codemirror_mode": {
    "name": "ipython",
    "version": 3
   },
   "file_extension": ".py",
   "mimetype": "text/x-python",
   "name": "python",
   "nbconvert_exporter": "python",
   "pygments_lexer": "ipython3",
   "version": "3.6.2"
  }
 },
 "nbformat": 4,
 "nbformat_minor": 2
}
