{
 "cells": [
  {
   "cell_type": "markdown",
   "metadata": {},
   "source": [
    "### Variational Inference for Probabilistic PCA"
   ]
  },
  {
   "cell_type": "code",
   "execution_count": 1,
   "metadata": {},
   "outputs": [
    {
     "name": "stderr",
     "output_type": "stream",
     "text": [
      "/opt/anaconda3/lib/python3.6/site-packages/h5py/__init__.py:34: FutureWarning: Conversion of the second argument of issubdtype from `float` to `np.floating` is deprecated. In future, it will be treated as `np.float64 == np.dtype(float).type`.\n",
      "  from ._conv import register_converters as _register_converters\n"
     ]
    }
   ],
   "source": [
    "import matplotlib.pyplot as plt\n",
    "import numpy as np\n",
    "import seaborn as sns\n",
    "\n",
    "import tensorflow as tf\n",
    "import tensorflow_probability as tfp\n",
    "from tensorflow_probability import edward2 as ed\n",
    "import warnings\n",
    "\n",
    "plt.style.use(\"ggplot\")\n",
    "warnings.filterwarnings('ignore')\n",
    "\n",
    "%matplotlib inline"
   ]
  },
  {
   "cell_type": "markdown",
   "metadata": {},
   "source": [
    "#### PPCA model components:\n",
    "+ Latent variable $\\mathbf{z}_n \\in \\mathbb{R}^{K}$:  $\\mathbf{z}_n \\sim \\mathcal{N}(\\mathbf{0}, \\mathbf{I})$\n",
    "+ Model parameters $\\mathbf{W} \\in \\mathbb{R}^{DxK}$, which is the principal components\n",
    "    $\\mathbf{W} \\sim \\mathcal{N}(\\mathbf{0}, \\mathbf{I})$\n",
    "+ Modeled data $\\mathbf{x}_n \\in \\mathbb{R}^{D}$ (conditioned on the latent vars): $\\mathbf{x}_n | \\mathbf{z}_n \\sim  \\mathcal{N}(\\mathbf{W}\\mathbf{z}_n, \\sigma^2\\mathbf{I})$"
   ]
  },
  {
   "cell_type": "code",
   "execution_count": 2,
   "metadata": {},
   "outputs": [],
   "source": [
    "def ppca_model(data_dim, latent_dim, num_datapoints, stddv_datapoints):\n",
    "    z = ed.Normal(\n",
    "        loc=tf.zeros([latent_dim, num_datapoints]),\n",
    "        scale=tf.ones([latent_dim, num_datapoints]),\n",
    "        name='z'\n",
    "    )\n",
    "    \n",
    "    w = ed.Normal(\n",
    "        loc=tf.zeros([data_dim, latent_dim]),\n",
    "        scale=2.0 * tf.ones([data_dim, latent_dim]),\n",
    "        name='w'\n",
    "    )\n",
    "    \n",
    "    x = ed.Normal(\n",
    "        loc=tf.matmul(w, z),\n",
    "        scale=stddv_datapoints * tf.ones([data_dim, num_datapoints]),\n",
    "        name='x'\n",
    "    )\n",
    "    \n",
    "    return x, (w, z)\n",
    "\n",
    "log_joint_ppca_model = ed.make_log_joint_fn(ppca_model)"
   ]
  },
  {
   "cell_type": "markdown",
   "metadata": {},
   "source": [
    "### Generative process\n",
    "Goal: generate data from the generative model,\n",
    "    then use this data to fit the model to inference the latent vars"
   ]
  },
  {
   "cell_type": "code",
   "execution_count": 7,
   "metadata": {},
   "outputs": [
    {
     "name": "stdout",
     "output_type": "stream",
     "text": [
      "Actual axes: \n",
      "[[-4.1910744]\n",
      " [ 3.1450622]]\n"
     ]
    }
   ],
   "source": [
    "num_datapoints = 5000\n",
    "data_dim = 2\n",
    "latent_dim = 1\n",
    "stddv_datapoints = 0.5\n",
    "\n",
    "generative_model = ppca_model(data_dim=data_dim, latent_dim=latent_dim,\n",
    "                              num_datapoints=num_datapoints,\n",
    "                              stddv_datapoints=stddv_datapoints)\n",
    "\n",
    "with tf.Session() as sess:\n",
    "    x_train, (actual_w, actual_z) = sess.run(generative_model)\n",
    "    \n",
    "print('Actual axes: ')\n",
    "print(actual_w)"
   ]
  },
  {
   "cell_type": "code",
   "execution_count": 8,
   "metadata": {},
   "outputs": [
    {
     "data": {
      "image/png": "[encoded data removed]",
      "text/plain": [
       "<Figure size 432x288 with 1 Axes>"
      ]
     },
     "metadata": {},
     "output_type": "display_data"
    }
   ],
   "source": [
    "plt.scatter(x_train[0, :], x_train[1, :], color='blue', alpha=0.1)\n",
    "plt.axis([-20, 20, -20, 20])\n",
    "plt.title(\"Data set\")\n",
    "plt.show()"
   ]
  },
  {
   "cell_type": "markdown",
   "metadata": {},
   "source": [
    "### Variational Inference:\n",
    "Learn the distribution of the parameters `W` and `Z` from the observed data `X` using VI method.\n",
    "The goal is to approximate the posterior prob. dist. $p(W, Z | X)$ but it is not possible.\n",
    "\n",
    "VI method offers a mechanism to approximate the posterior prob. dist. by using a family of variational distribution $q(W, Z; \\lambda)$.\n",
    "\n",
    "The problem is thus:\n",
    "$$\n",
    "    \\lambda = argmin_{\\lambda} KL(q({W, Z; \\lambda}) || p(W, Z | X))\n",
    "$$\n",
    "\n",
    "According to [this guide](http://edwardlib.org/tutorials/klqp), this problem is equivalent to:\n",
    "$$\n",
    "    \\lambda = argmin_{\\lambda} \\mathbb{E}_{q({W, Z; \\lambda})}[\\log p(W, Z, X) - \\log q({W, Z; \\lambda})]\n",
    "$$\n",
    "\n",
    "The first term $\\mathbb{E}_{q({W, Z; \\lambda})}[\\log p(W, Z, X)]$ is called **energy**,\n",
    "the second term $ - \\mathbb{E}_{q({W, Z; \\lambda})}[\\log q({W, Z; \\lambda})]$ is **entropy** of $q$.\n",
    "\n",
    "The first term: we have had `log_joint_ppca_model` defined above.\n",
    "For the second term, we need to define a _variational model_ $q$.\n",
    "\n",
    "$q$ constaints two random vars, so for specifing $q$, we need to find out the characteristiques of each random var (mean and variance for each $W$ and $Z$)."
   ]
  },
  {
   "cell_type": "code",
   "execution_count": 44,
   "metadata": {},
   "outputs": [],
   "source": [
    "# because we've run the computational graph of TF once,\n",
    "# before continuing to run the TF code, we MUST reset the computational graph\n",
    "tf.reset_default_graph()"
   ]
  },
  {
   "cell_type": "code",
   "execution_count": 45,
   "metadata": {},
   "outputs": [],
   "source": [
    "# for the first term: define an energy function\n",
    "def energy_func(qw, qz):\n",
    "    return log_joint_ppca_model(\n",
    "        data_dim=data_dim, latent_dim=latent_dim,\n",
    "        num_datapoints=num_datapoints, stddv_datapoints=stddv_datapoints,\n",
    "        x=x_train, w=qw, z=qz\n",
    "    )"
   ]
  },
  {
   "cell_type": "code",
   "execution_count": 46,
   "metadata": {},
   "outputs": [],
   "source": [
    "# for the second term:\n",
    "# first, define the variational model of two variable W and Z\n",
    "def variational_model(qw_mean, qw_stddv, qz_mean, qz_stddv):\n",
    "    qw = ed.Normal(loc=qw_mean, scale=qw_stddv, name='qw')\n",
    "    qz = ed.Normal(loc=qz_mean, scale=qz_stddv, name='qz')\n",
    "    return qw, qz\n",
    "\n",
    "log_joint_variational_model = ed.make_log_joint_fn(variational_model)\n",
    "\n",
    "# then, define the variables for W and Z (note to specify the default values for them)\n",
    "qw_mean = tf.Variable(np.ones([data_dim, latent_dim]), dtype=tf.float32)\n",
    "qz_mean = tf.Variable(np.ones([latent_dim, num_datapoints]), dtype=tf.float32)\n",
    "qw_stddv = tf.nn.softplus(tf.Variable(-4 * np.ones([data_dim, latent_dim]), dtype=tf.float32))\n",
    "qz_stddv = tf.nn.softplus(tf.Variable(-4 * np.ones([latent_dim, num_datapoints]), dtype=tf.float32))\n",
    "\n",
    "# finally, define the entropy function\n",
    "def entropy_func(qw, qz):\n",
    "    return - log_joint_variational_model(\n",
    "        qw_mean=qw_mean, qw_stddv=qw_stddv, qz_mean=qz_mean, qz_stddv=qz_stddv,\n",
    "        qw=qw, qz=qz\n",
    "    )"
   ]
  },
  {
   "cell_type": "code",
   "execution_count": 47,
   "metadata": {},
   "outputs": [],
   "source": [
    "# once we have the `variational_model`\n",
    "# use this model to specify the variational variables `qw` and `qz`\n",
    "\n",
    "qw, qz = variational_model(qw_mean=qw_mean, qw_stddv=qw_stddv,\n",
    "                           qz_mean=qz_mean, qz_stddv=qz_stddv)\n",
    "\n",
    "# define how to calculate the energy and entropy\n",
    "energy = energy_func(qw, qz)\n",
    "entropy = entropy_func(qw, qz)\n",
    "\n",
    "# define an ELBO objective function\n",
    "elbo = energy + entropy\n",
    "\n",
    "# define how to maximize the ELBO (or minimize -elbo)\n",
    "optimizer = tf.train.AdamOptimizer(learning_rate=0.05)\n",
    "train_process = optimizer.minimize( - elbo)"
   ]
  },
  {
   "cell_type": "code",
   "execution_count": 48,
   "metadata": {},
   "outputs": [],
   "source": [
    "init_process = tf.global_variables_initializer()\n",
    "t = []\n",
    "num_epochs = 100\n",
    "\n",
    "with tf.Session() as sess:\n",
    "    # first, make sure to init all varaibles\n",
    "    sess.run(init_process)\n",
    "    \n",
    "    # then run the training process\n",
    "    for i in range(num_epochs):\n",
    "        sess.run(train_process)\n",
    "        \n",
    "        # log the value of ELBO objective function\n",
    "        if i % 5 == 0:\n",
    "            t.append(sess.run([elbo]))\n",
    "        \n",
    "    # after finishing the training, make sure to collect the target parameters\n",
    "    w_mean_vi = sess.run(qw_mean)\n",
    "    w_stddv_vi = sess.run(qw_stddv)\n",
    "    z_mean_vi = sess.run(qz_mean)\n",
    "    z_stddv_vi = sess.run(qz_stddv)"
   ]
  },
  {
   "cell_type": "code",
   "execution_count": 49,
   "metadata": {},
   "outputs": [
    {
     "data": {
      "image/png": "[encoded data removed]",
      "text/plain": [
       "<Figure size 432x288 with 1 Axes>"
      ]
     },
     "metadata": {},
     "output_type": "display_data"
    }
   ],
   "source": [
    "# how the ELBO looks like?\n",
    "plt.plot(range(1, num_epochs, 5), t)\n",
    "plt.show()"
   ]
  },
  {
   "cell_type": "code",
   "execution_count": 50,
   "metadata": {},
   "outputs": [
    {
     "name": "stdout",
     "output_type": "stream",
     "text": [
      "Actual axes: \n",
      "[[-4.1910744]\n",
      " [ 3.1450622]]\n",
      "Inferred axes: \n",
      "[[ 2.6424184]\n",
      " [-1.9918554]]\n",
      "Std of W: \n",
      "[[0.01316922]\n",
      " [0.03143704]]\n"
     ]
    }
   ],
   "source": [
    "# what is the value of inferred mean `W` (and compare to the `actual_w`)\n",
    "print('Actual axes: ')\n",
    "print(actual_w)\n",
    "\n",
    "print('Inferred axes: ')\n",
    "print(w_mean_vi)\n",
    "print('Std of W: ')\n",
    "print(w_stddv_vi)\n",
    "\n",
    "# print('Actural z:',  actual_z)\n",
    "# print('Inferred z:', z_mean_vi, z_stddv_vi)"
   ]
  },
  {
   "cell_type": "code",
   "execution_count": 52,
   "metadata": {},
   "outputs": [],
   "source": [
    "# Now, to compare the actual data `x_train` with the data generated\n",
    "# with the inferred params above, let re-create a generative process\n",
    "# in which the assumped params are replaced by the inferred params,\n",
    "# and then run the new generative process to create the new generated data\n",
    "\n",
    "tf.reset_default_graph()\n",
    "\n",
    "def replace_latents(w=actual_w, z=actual_z):\n",
    "    def interceptor(rv_constructor, *rv_args, **rv_kwargs):\n",
    "        \"\"\"Replaces the priors with actual values to generate samples from.\"\"\"\n",
    "        name = rv_kwargs.pop(\"name\")\n",
    "        if name == \"w\":\n",
    "          rv_kwargs[\"value\"] = w\n",
    "        elif name == \"z\":\n",
    "          rv_kwargs[\"value\"] = z\n",
    "        return rv_constructor(*rv_args, **rv_kwargs)\n",
    "    return interceptor\n",
    "\n",
    "with ed.interception(replace_latents(w_mean_vi, z_mean_vi)):\n",
    "    new_generative_process = ppca_model(\n",
    "        data_dim=data_dim, latent_dim=latent_dim,\n",
    "        num_datapoints=num_datapoints, stddv_datapoints=stddv_datapoints\n",
    "    )\n",
    "    \n",
    "with tf.Session() as sess:\n",
    "    x_generated, _ = sess.run(new_generative_process)"
   ]
  },
  {
   "cell_type": "code",
   "execution_count": 53,
   "metadata": {},
   "outputs": [
    {
     "data": {
      "image/png": "[encoded data removed]",
      "text/plain": [
       "<Figure size 432x288 with 1 Axes>"
      ]
     },
     "metadata": {},
     "output_type": "display_data"
    }
   ],
   "source": [
    "# visually compare\n",
    "plt.scatter(x_train[0, :], x_train[1, :], color='blue', alpha=0.1, label='Actual data')\n",
    "plt.scatter(x_generated[0, :], x_generated[1, :], color='red', alpha=0.1, label='Simulated data (VI)')\n",
    "plt.legend()\n",
    "plt.axis([-20, 20, -20, 20])\n",
    "plt.show()"
   ]
  }
 ],
 "metadata": {
  "kernelspec": {
   "display_name": "Python 3",
   "language": "python",
   "name": "python3"
  },
  "language_info": {
   "codemirror_mode": {
    "name": "ipython",
    "version": 3
   },
   "file_extension": ".py",
   "mimetype": "text/x-python",
   "name": "python",
   "nbconvert_exporter": "python",
   "pygments_lexer": "ipython3",
   "version": "3.6.2"
  }
 },
 "nbformat": 4,
 "nbformat_minor": 2
}
