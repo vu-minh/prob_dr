{
 "cells": [
  {
   "cell_type": "markdown",
   "metadata": {},
   "source": [
    "### Variational Inference for Probabilistic PCA"
   ]
  },
  {
   "cell_type": "code",
   "execution_count": 2,
   "metadata": {},
   "outputs": [],
   "source": [
    "import matplotlib.pyplot as plt\n",
    "import numpy as np\n",
    "import seaborn as sns\n",
    "\n",
    "import tensorflow as tf\n",
    "import tensorflow_probability as tfp\n",
    "from tensorflow_probability import edward2 as ed\n",
    "import warnings\n",
    "\n",
    "from sklearn.preprocessing import StandardScaler\n",
    "from sklearn.datasets import load_iris, load_digits\n",
    "\n",
    "from observations import iris\n",
    "DATA_DIR = './data'\n",
    "\n",
    "\n",
    "plt.style.use(\"ggplot\")\n",
    "warnings.filterwarnings('ignore')\n",
    "\n",
    "%matplotlib inline"
   ]
  },
  {
   "cell_type": "code",
   "execution_count": 3,
   "metadata": {},
   "outputs": [],
   "source": [
    "dataset = load_digits()\n",
    "# dataset = load_iris()\n",
    "x_train, y_class = dataset.data, dataset.target\n",
    "x_train = StandardScaler().fit_transform(x_train)\n",
    "x_train = x_train.T"
   ]
  },
  {
   "cell_type": "code",
   "execution_count": 4,
   "metadata": {},
   "outputs": [
    {
     "name": "stdout",
     "output_type": "stream",
     "text": [
      "(4, 150) (150,)\n",
      "{'columns': ['sepal length (cm)', 'sepal width (cm)', 'petal length (cm)', 'petal width (cm)']}\n"
     ]
    }
   ],
   "source": [
    "x_train, y_train, metadata = iris(DATA_DIR)\n",
    "\n",
    "# standardize data\n",
    "# x_mean = np.mean(x_train, axis=0)\n",
    "# x_std = np.std(x_train, axis=0)\n",
    "# x_train = (x_train - x_mean) / x_std\n",
    "\n",
    "x_train = x_train.T\n",
    "print(x_train.shape, y_train.shape)\n",
    "print(metadata)\n",
    "\n",
    "y_label = np.unique(y_train)\n",
    "y_dict = dict((label, i) for i, label in enumerate(y_label))\n",
    "y_class = list(map(lambda label: y_dict[label], y_train))"
   ]
  },
  {
   "cell_type": "code",
   "execution_count": 5,
   "metadata": {},
   "outputs": [
    {
     "name": "stdout",
     "output_type": "stream",
     "text": [
      "4 150\n"
     ]
    }
   ],
   "source": [
    "data_dim, num_datapoints = x_train.shape\n",
    "latent_dim = 2\n",
    "stddv_datapoints = 1e-5\n",
    "print(data_dim, num_datapoints)"
   ]
  },
  {
   "cell_type": "markdown",
   "metadata": {},
   "source": [
    "#### PPCA model components:\n",
    "+ Latent variable $\\mathbf{z}_n \\in \\mathbb{R}^{K}$:  $\\mathbf{z}_n \\sim \\mathcal{N}(\\mathbf{0}, \\mathbf{I})$\n",
    "+ Model parameters $\\mathbf{W} \\in \\mathbb{R}^{DxK}$, which is the principal components\n",
    "    $\\mathbf{W} \\sim \\mathcal{N}(\\mathbf{0}, \\mathbf{I})$\n",
    "+ Modeled data $\\mathbf{x}_n \\in \\mathbb{R}^{D}$ (conditioned on the latent vars): $\\mathbf{x}_n | \\mathbf{z}_n \\sim  \\mathcal{N}(\\mathbf{W}\\mathbf{z}_n, \\sigma^2\\mathbf{I})$"
   ]
  },
  {
   "cell_type": "code",
   "execution_count": 6,
   "metadata": {},
   "outputs": [],
   "source": [
    "def ppca_model(data_dim, latent_dim, num_datapoints, stddv_datapoints):\n",
    "    z = ed.Normal(\n",
    "        loc=tf.zeros([latent_dim, num_datapoints]),\n",
    "        scale=tf.ones([latent_dim, num_datapoints]),\n",
    "        name='z'\n",
    "    )\n",
    "    \n",
    "    w = ed.Normal(\n",
    "        loc=tf.zeros([data_dim, latent_dim]),\n",
    "        scale=tf.ones([data_dim, latent_dim]),\n",
    "        name='w'\n",
    "    )\n",
    "    \n",
    "    x = ed.Normal(\n",
    "        loc=tf.matmul(w, z),\n",
    "        scale=stddv_datapoints * tf.ones([data_dim, num_datapoints]),\n",
    "        name='x'\n",
    "    )\n",
    "    \n",
    "    return x, (w, z)\n",
    "\n",
    "log_joint_ppca_model = ed.make_log_joint_fn(ppca_model)"
   ]
  },
  {
   "cell_type": "markdown",
   "metadata": {},
   "source": [
    "### Variational Inference:\n",
    "Learn the distribution of the parameters `W` and `Z` from the observed data `X` using VI method.\n",
    "The goal is to approximate the posterior prob. dist. $p(W, Z | X)$ but it is not possible.\n",
    "\n",
    "VI method offers a mechanism to approximate the posterior prob. dist. by using a family of variational distribution $q(W, Z; \\lambda)$.\n",
    "\n",
    "The problem is thus:\n",
    "$$\n",
    "    \\lambda = argmin_{\\lambda} KL(q({W, Z; \\lambda}) || p(W, Z | X))\n",
    "$$\n",
    "\n",
    "According to [this guide](http://edwardlib.org/tutorials/klqp), this problem is equivalent to:\n",
    "$$\n",
    "    \\lambda = argmin_{\\lambda} \\mathbb{E}_{q({W, Z; \\lambda})}[\\log p(W, Z, X) - \\log q({W, Z; \\lambda})]\n",
    "$$\n",
    "\n",
    "The first term $\\mathbb{E}_{q({W, Z; \\lambda})}[\\log p(W, Z, X)]$ is called **energy**,\n",
    "the second term $ - \\mathbb{E}_{q({W, Z; \\lambda})}[\\log q({W, Z; \\lambda})]$ is **entropy** of $q$.\n",
    "\n",
    "The first term: we have had `log_joint_ppca_model` defined above.\n",
    "For the second term, we need to define a _variational model_ $q$.\n",
    "\n",
    "$q$ constaints two random vars, so for specifing $q$, we need to find out the characteristiques of each random var (mean and variance for each $W$ and $Z$)."
   ]
  },
  {
   "cell_type": "code",
   "execution_count": 7,
   "metadata": {},
   "outputs": [],
   "source": [
    "def train_vi(num_epochs=1000, fixed_learning_rate=0.1,stddv_datapoints=1e-6):\n",
    "    # because we've run the computational graph of TF once,\n",
    "    # before continuing to run the TF code, we MUST reset the computational graph\n",
    "    tf.reset_default_graph()\n",
    "\n",
    "    # for the first term: define an energy function\n",
    "    def energy_func(qw, qz):\n",
    "        return log_joint_ppca_model(\n",
    "            data_dim=data_dim, latent_dim=latent_dim,\n",
    "            num_datapoints=num_datapoints, stddv_datapoints=stddv_datapoints,\n",
    "            x=x_train, w=qw, z=qz\n",
    "        )\n",
    "\n",
    "    # for the second term:\n",
    "    # first, define the variational model of two variable W and Z\n",
    "    def variational_model(qw_mean, qw_stddv, qz_mean, qz_stddv):\n",
    "        qw = ed.Normal(loc=qw_mean, scale=qw_stddv, name='qw')\n",
    "        qz = ed.Normal(loc=qz_mean, scale=qz_stddv, name='qz')\n",
    "        return qw, qz\n",
    "\n",
    "    log_joint_variational_model = ed.make_log_joint_fn(variational_model)\n",
    "\n",
    "    # then, define the variables for W and Z (note to specify the default values for them)\n",
    "    qw_mean = tf.Variable(np.ones([data_dim, latent_dim]), dtype=tf.float32)\n",
    "    qz_mean = tf.Variable(np.ones([latent_dim, num_datapoints]), dtype=tf.float32)\n",
    "    qw_stddv = tf.nn.softplus(tf.Variable(np.ones([data_dim, latent_dim]), dtype=tf.float32))\n",
    "    qz_stddv = tf.nn.softplus(tf.Variable(np.ones([latent_dim, num_datapoints]), dtype=tf.float32))\n",
    "\n",
    "    # finally, define the entropy function\n",
    "    def entropy_func(qw, qz):\n",
    "        return - log_joint_variational_model(\n",
    "            qw_mean=qw_mean, qw_stddv=qw_stddv, qz_mean=qz_mean, qz_stddv=qz_stddv,\n",
    "            qw=qw, qz=qz\n",
    "        )\n",
    "\n",
    "    # once we have the `variational_model`\n",
    "    # use this model to specify the variational variables `qw` and `qz`\n",
    "    qw, qz = variational_model(qw_mean=qw_mean, qw_stddv=qw_stddv,\n",
    "                               qz_mean=qz_mean, qz_stddv=qz_stddv)\n",
    "\n",
    "    # define how to calculate the energy and entropy\n",
    "    energy = energy_func(qw, qz)\n",
    "    entropy = entropy_func(qw, qz)\n",
    "\n",
    "    # define an ELBO objective function\n",
    "    elbo = energy + entropy\n",
    "\n",
    "    # define how to maximize the ELBO (or minimize -elbo)\n",
    "    lr = tf.placeholder(tf.float32, shape=[])\n",
    "    optimizer = tf.train.AdamOptimizer(learning_rate=lr)\n",
    "    train_process = optimizer.minimize(-elbo)\n",
    "\n",
    "    init_process = tf.global_variables_initializer()\n",
    "    losses = []\n",
    "\n",
    "    with tf.Session() as sess:\n",
    "        # first, make sure to init all varaibles\n",
    "        sess.run(init_process)\n",
    "\n",
    "        # then run the training process\n",
    "        for i in range(1, num_epochs):\n",
    "            lr_val = fixed_learning_rate # + np.log(i) * 1e-2\n",
    "            sess.run(train_process, feed_dict={lr: lr_val})\n",
    "\n",
    "            # log the value of ELBO objective function\n",
    "            if i % 5 == 0:\n",
    "                losses.append(sess.run([elbo]))\n",
    "\n",
    "        print('final learning rate: ', lr_val)\n",
    "        \n",
    "        # after finishing the training, make sure to collect the target parameters\n",
    "        w_mean, w_std, z_mean, z_std = sess.run([qw_mean, qw_stddv, qz_mean, qz_stddv])\n",
    "        \n",
    "    return losses, w_mean, w_std, z_mean, z_std"
   ]
  },
  {
   "cell_type": "code",
   "execution_count": 8,
   "metadata": {},
   "outputs": [
    {
     "name": "stdout",
     "output_type": "stream",
     "text": [
      "final learning rate:  0.5\n"
     ]
    },
    {
     "data": {
      "image/png": "[encoded data removed]",
      "text/plain": [
       "<Figure size 432x288 with 1 Axes>"
      ]
     },
     "metadata": {},
     "output_type": "display_data"
    },
    {
     "data": {
      "image/png": "[encoded data removed]",
      "text/plain": [
       "<Figure size 432x288 with 1 Axes>"
      ]
     },
     "metadata": {},
     "output_type": "display_data"
    }
   ],
   "source": [
    "losses, w_mean, w_std, z_mean, z_std = train_vi(\n",
    "    num_epochs=5000, fixed_learning_rate=.5,stddv_datapoints=0.01)\n",
    "plt.plot(range(len(losses)), losses)\n",
    "plt.show()\n",
    "plt.scatter(z_mean[0, :], z_mean[1, :], c=y_class)\n",
    "plt.show()"
   ]
  },
  {
   "cell_type": "code",
   "execution_count": null,
   "metadata": {},
   "outputs": [],
   "source": []
  }
 ],
 "metadata": {
  "kernelspec": {
   "display_name": "Python 3",
   "language": "python",
   "name": "python3"
  },
  "language_info": {
   "codemirror_mode": {
    "name": "ipython",
    "version": 3
   },
   "file_extension": ".py",
   "mimetype": "text/x-python",
   "name": "python",
   "nbconvert_exporter": "python",
   "pygments_lexer": "ipython3",
   "version": "3.6.2"
  }
 },
 "nbformat": 4,
 "nbformat_minor": 2
}
