{
 "cells": [
  {
   "cell_type": "markdown",
   "metadata": {},
   "source": [
    "### Interactive notebook for moving points with PPCA"
   ]
  },
  {
   "cell_type": "code",
   "execution_count": 2,
   "metadata": {},
   "outputs": [],
   "source": [
    "from __future__ import print_function\n",
    "\n",
    "import numpy as np\n",
    "import tensorflow as tf\n",
    "import tensorflow_probability as tfp\n",
    "from tensorflow_probability import edward2 as ed\n",
    "\n",
    "from sklearn.decomposition import PCA\n",
    "\n",
    "from bqplot import (\n",
    "    Axis, ColorAxis, LinearScale, DateScale, DateColorScale, OrdinalScale,\n",
    "    OrdinalColorScale, ColorScale, Scatter, Lines, Figure, Tooltip\n",
    ")\n",
    "from ipywidgets import VBox, HBox, Layout\n",
    "from ipywidgets import Label\n",
    "\n",
    "from observations import iris, mnist\n",
    "DATA_DIR = './data'\n",
    "\n",
    "import warnings\n",
    "warnings.filterwarnings('ignore')\n",
    "\n",
    "seed = 2018\n",
    "np.random.seed(seed)\n",
    "tf.set_random_seed(seed)"
   ]
  },
  {
   "cell_type": "markdown",
   "metadata": {},
   "source": [
    "### Prepare dataset"
   ]
  },
  {
   "cell_type": "code",
   "execution_count": 107,
   "metadata": {},
   "outputs": [
    {
     "name": "stdout",
     "output_type": "stream",
     "text": [
      "(150, 4) (150,)\n"
     ]
    }
   ],
   "source": [
    "x_train, y_train, _ = iris(DATA_DIR)\n",
    "y_labels = np.unique(y_train)\n",
    "y_label_map = dict((label, i) for i, label in enumerate(y_labels))\n",
    "y_class = np.array(list(map(lambda label: y_label_map[label] , y_train)))\n",
    "print(x_train.shape, y_train.shape)"
   ]
  },
  {
   "cell_type": "code",
   "execution_count": 79,
   "metadata": {
    "scrolled": true
   },
   "outputs": [
    {
     "name": "stdout",
     "output_type": "stream",
     "text": [
      "(500, 784) (500,)\n"
     ]
    }
   ],
   "source": [
    "(x_train, y_train), (x_test, y_test) = mnist(DATA_DIR)\n",
    "N = 500\n",
    "x_train = x_train[:N]\n",
    "y_class = y_train[:N]\n",
    "print(x_train.shape, y_class.shape)"
   ]
  },
  {
   "cell_type": "code",
   "execution_count": 108,
   "metadata": {},
   "outputs": [],
   "source": [
    "# prepare a list of fixed points and a list of indices of the dataset, which is\n",
    "# used when rearrange the dataset to put the fixed points to the bottom\n",
    "N, D = x_train.shape\n",
    "K = 2\n",
    "point_indices = list(range(N))\n",
    "fixed_points = {}"
   ]
  },
  {
   "cell_type": "code",
   "execution_count": 109,
   "metadata": {},
   "outputs": [],
   "source": [
    "def rearrange_fixed_points():\n",
    "    \"\"\"Put a list of fixed points to the bottom of the dataset\"\"\"\n",
    "    global x_train\n",
    "    global y_class\n",
    "    global point_indices\n",
    "    \n",
    "    fixed_indices = fixed_points.keys()\n",
    "    new_indices = [i for i in point_indices if i not in fixed_indices]\n",
    "    new_indices += fixed_indices\n",
    "    \n",
    "    point_indices = new_indices    \n",
    "    x_train = x_train[new_indices]\n",
    "    y_class = y_class[new_indices]"
   ]
  },
  {
   "cell_type": "markdown",
   "metadata": {},
   "source": [
    "### Util functions for interactive viz"
   ]
  },
  {
   "cell_type": "code",
   "execution_count": 83,
   "metadata": {
    "scrolled": false
   },
   "outputs": [],
   "source": [
    "lbl_info = Label(color='Green', font_size='32px')\n",
    "lbl_info.value = 'Fixed points: []'"
   ]
  },
  {
   "cell_type": "code",
   "execution_count": 84,
   "metadata": {},
   "outputs": [],
   "source": [
    "def update_fixed_points(name, value):\n",
    "    pos = value['point']\n",
    "    idx = value['index']\n",
    "    fixed_points[idx] = [pos['x'], pos['y']]\n",
    "    lbl_info.value = \"Fixed points: [{}]\".format('  ,'.join([str(pi) for pi in fixed_points]))\n",
    "    \n",
    "def reset_fixed_points():\n",
    "    fixed_points = {}\n",
    "    lbl_info.value = 'Fixed points: []'"
   ]
  },
  {
   "cell_type": "code",
   "execution_count": 97,
   "metadata": {
    "scrolled": false
   },
   "outputs": [],
   "source": [
    "def viz(x_2d, y_class):\n",
    "    sc_x = LinearScale()\n",
    "    sc_y = LinearScale()\n",
    "    sc_c = ColorScale(scheme='RdYlGn')\n",
    "    scatt = Scatter(x=x_2d[:,0], y=x_2d[:,1], color=y_class,\n",
    "                    scales={'x': sc_x, 'y': sc_y, 'color': sc_c},\n",
    "                    enable_move=True)\n",
    "    scatt.on_drag_end(update_fixed_points)\n",
    "    \n",
    "    ax_x = Axis(scale=sc_x)\n",
    "    ax_y = Axis(scale=sc_y, tick_format='0.2f', orientation='vertical')\n",
    "    fig = Figure(marks=[scatt], axes=[ax_x, ax_y])\n",
    "    return fig, scatt"
   ]
  },
  {
   "cell_type": "code",
   "execution_count": 86,
   "metadata": {},
   "outputs": [],
   "source": [
    "def update_scatter(scatt, x_2d, y_class):\n",
    "    scatt.x = x_2d[:,0]\n",
    "    scatt.y = x_2d[:,1]\n",
    "    scatt.color = y_class"
   ]
  },
  {
   "cell_type": "markdown",
   "metadata": {},
   "source": [
    "### Base model with original PCA in scikit-learn"
   ]
  },
  {
   "cell_type": "code",
   "execution_count": 104,
   "metadata": {},
   "outputs": [],
   "source": [
    "x_2d = PCA(n_components=2).fit_transform(x_train)"
   ]
  },
  {
   "cell_type": "code",
   "execution_count": 105,
   "metadata": {},
   "outputs": [
    {
     "data": {
      "application/vnd.jupyter.widget-view+json": {
       "model_id": "6fa19af5e13c48899e1228bce110b48b",
       "version_major": 2,
       "version_minor": 0
      },
      "text/plain": [
       "A Jupyter Widget"
      ]
     },
     "metadata": {},
     "output_type": "display_data"
    }
   ],
   "source": [
    "fig, scatt = viz(x_2d, y_class)\n",
    "VBox([lbl_info, fig])"
   ]
  },
  {
   "cell_type": "code",
   "execution_count": 100,
   "metadata": {},
   "outputs": [
    {
     "name": "stdout",
     "output_type": "stream",
     "text": [
      "[0, 1, 2, 3, 4, 5, 6, 7, 8, 9, 10, 11, 12, 13, 14, 15, 16, 17, 18, 19, 20, 22, 23, 24, 25, 26, 27, 29, 30, 31, 32, 33, 34, 35, 36, 37, 38, 39, 40, 41, 42, 43, 44, 45, 46, 47, 48, 49, 51, 53, 54, 55, 56, 57, 58, 59, 60, 61, 62, 63, 64, 65, 66, 67, 68, 69, 70, 71, 72, 73, 74, 75, 76, 77, 78, 79, 80, 81, 82, 83, 84, 85, 86, 87, 88, 89, 90, 91, 92, 93, 94, 95, 96, 97, 98, 99, 100, 101, 102, 103, 104, 105, 106, 107, 108, 109, 110, 111, 112, 113, 114, 115, 116, 117, 118, 119, 120, 121, 122, 123, 124, 125, 126, 127, 128, 129, 130, 132, 133, 134, 135, 136, 137, 138, 139, 140, 141, 142, 143, 144, 145, 146, 147, 149, 131, 50, 52, 148, 21, 28]\n"
     ]
    }
   ],
   "source": [
    "print(point_indices)"
   ]
  },
  {
   "cell_type": "code",
   "execution_count": 101,
   "metadata": {},
   "outputs": [
    {
     "name": "stdout",
     "output_type": "stream",
     "text": [
      "[0, 1, 2, 3, 4, 5, 6, 7, 8, 9, 10, 11, 12, 13, 14, 16, 17, 18, 19, 20, 22, 23, 24, 26, 29, 30, 31, 32, 33, 34, 35, 36, 37, 38, 39, 40, 41, 42, 43, 44, 45, 46, 47, 48, 49, 51, 53, 54, 55, 56, 58, 59, 60, 61, 62, 63, 64, 65, 66, 67, 68, 69, 70, 72, 73, 74, 75, 76, 77, 78, 79, 80, 81, 82, 83, 84, 85, 86, 87, 88, 89, 90, 91, 92, 93, 94, 95, 96, 97, 98, 99, 100, 101, 102, 103, 104, 105, 106, 107, 108, 109, 110, 111, 112, 113, 114, 115, 116, 117, 118, 119, 120, 121, 122, 123, 124, 125, 126, 127, 128, 129, 130, 132, 134, 135, 136, 137, 138, 139, 140, 141, 142, 143, 145, 146, 147, 149, 131, 50, 52, 148, 21, 28, 15, 144, 71, 25, 133, 57, 27]\n"
     ]
    }
   ],
   "source": [
    "rearrange_fixed_points()\n",
    "print(point_indices)"
   ]
  },
  {
   "cell_type": "code",
   "execution_count": 94,
   "metadata": {},
   "outputs": [
    {
     "name": "stdout",
     "output_type": "stream",
     "text": [
      "[4.8 3.1 1.6 0.2] [-2.63982127  0.31929007]\n"
     ]
    }
   ],
   "source": [
    "print(x_train[28], x_2d[28])"
   ]
  },
  {
   "cell_type": "code",
   "execution_count": null,
   "metadata": {},
   "outputs": [],
   "source": []
  }
 ],
 "metadata": {
  "kernelspec": {
   "display_name": "Python 3",
   "language": "python",
   "name": "python3"
  },
  "language_info": {
   "codemirror_mode": {
    "name": "ipython",
    "version": 3
   },
   "file_extension": ".py",
   "mimetype": "text/x-python",
   "name": "python",
   "nbconvert_exporter": "python",
   "pygments_lexer": "ipython3",
   "version": "3.6.2"
  }
 },
 "nbformat": 4,
 "nbformat_minor": 2
}
