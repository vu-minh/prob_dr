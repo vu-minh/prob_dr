{
 "cells": [
  {
   "cell_type": "markdown",
   "metadata": {
    "extensions": {
     "jupyter_dashboards": {
      "version": 1,
      "views": {
       "grid_default": {
        "col": 0,
        "height": 4,
        "hidden": false,
        "row": 0,
        "width": 4
       },
       "report_default": {
        "hidden": false
       }
      }
     }
    }
   },
   "source": [
    "### Interactive notebook for moving points with PPCA"
   ]
  },
  {
   "cell_type": "code",
   "execution_count": 185,
   "metadata": {
    "extensions": {
     "jupyter_dashboards": {
      "version": 1,
      "views": {
       "grid_default": {
        "hidden": true
       },
       "report_default": {
        "hidden": true
       }
      }
     }
    }
   },
   "outputs": [],
   "source": [
    "from __future__ import print_function\n",
    "\n",
    "import warnings\n",
    "warnings.filterwarnings('ignore')\n",
    "\n",
    "import numpy as np\n",
    "import tensorflow as tf\n",
    "import tensorflow_probability as tfp\n",
    "from tensorflow_probability import edward2 as ed\n",
    "\n",
    "from sklearn.decomposition import PCA\n",
    "from sklearn.preprocessing import StandardScaler\n",
    "\n",
    "from bqplot import (\n",
    "    Axis, ColorAxis, LinearScale, DateScale, DateColorScale, OrdinalScale,\n",
    "    OrdinalColorScale, ColorScale, Scatter, Lines, Figure, Tooltip\n",
    ")\n",
    "from ipywidgets import VBox, HBox, Layout\n",
    "from ipywidgets import Label, Button, IntSlider, FloatSlider\n",
    "from ipywidgets import interact, interactive_output\n",
    "\n",
    "from observations import iris, mnist\n",
    "DATA_DIR = './data'\n",
    "\n",
    "seed = 2018\n",
    "np.random.seed(seed)\n",
    "tf.set_random_seed(seed)\n",
    "\n",
    "warnings.filterwarnings('ignore')"
   ]
  },
  {
   "cell_type": "markdown",
   "metadata": {
    "extensions": {
     "jupyter_dashboards": {
      "version": 1,
      "views": {
       "grid_default": {
        "col": 4,
        "height": 4,
        "hidden": false,
        "row": 0,
        "width": 4
       },
       "report_default": {
        "hidden": false
       }
      }
     }
    }
   },
   "source": [
    "### Prepare dataset"
   ]
  },
  {
   "cell_type": "code",
   "execution_count": 107,
   "metadata": {
    "extensions": {
     "jupyter_dashboards": {
      "version": 1,
      "views": {
       "grid_default": {
        "hidden": true
       },
       "report_default": {
        "hidden": true
       }
      }
     }
    }
   },
   "outputs": [],
   "source": [
    "dataset_name='mnist'"
   ]
  },
  {
   "cell_type": "code",
   "execution_count": 186,
   "metadata": {
    "extensions": {
     "jupyter_dashboards": {
      "version": 1,
      "views": {
       "grid_default": {
        "hidden": true
       },
       "report_default": {
        "hidden": true
       }
      }
     }
    }
   },
   "outputs": [],
   "source": [
    "def load_dataset(name):\n",
    "    if name=='iris':\n",
    "        x_train, y_class = load_iris()\n",
    "    elif name=='mnist':\n",
    "        x_train, y_class = load_mnist()\n",
    "    else:\n",
    "        raise ValueError('Invalid dataset name: {}'.format(name))\n",
    "        \n",
    "    x_train = StandardScaler().fit_transform(x_train)\n",
    "    return x_train, y_class"
   ]
  },
  {
   "cell_type": "code",
   "execution_count": 187,
   "metadata": {
    "extensions": {
     "jupyter_dashboards": {
      "version": 1,
      "views": {
       "grid_default": {
        "hidden": true
       },
       "report_default": {
        "hidden": true
       }
      }
     }
    }
   },
   "outputs": [],
   "source": [
    "def load_iris():\n",
    "    x_train, y_train, _ = iris(DATA_DIR)\n",
    "    y_labels = np.unique(y_train)\n",
    "    y_label_map = dict((label, i) for i, label in enumerate(y_labels))\n",
    "    y_class = np.array(list(map(lambda label: y_label_map[label] , y_train)))\n",
    "    return x_train, y_class"
   ]
  },
  {
   "cell_type": "code",
   "execution_count": 212,
   "metadata": {
    "extensions": {
     "jupyter_dashboards": {
      "version": 1,
      "views": {
       "grid_default": {
        "hidden": true
       },
       "report_default": {
        "hidden": true
       }
      }
     }
    },
    "scrolled": true
   },
   "outputs": [],
   "source": [
    "selected_classes = [0,1]\n",
    "num_datapoints = 123\n",
    "def load_mnist():\n",
    "    (x_train, y_train), (x_test, y_test) = mnist(DATA_DIR)\n",
    "    mask = [True if yclass in selected_classes else False for yclass in y_train]\n",
    "    x_train = x_train[mask][:num_datapoints]\n",
    "    y_class = y_train[mask][:num_datapoints]\n",
    "    return x_train, y_class"
   ]
  },
  {
   "cell_type": "code",
   "execution_count": 213,
   "metadata": {
    "extensions": {
     "jupyter_dashboards": {
      "version": 1,
      "views": {
       "grid_default": {
        "col": 8,
        "height": 4,
        "hidden": false,
        "row": 0,
        "width": 4
       },
       "report_default": {
        "hidden": false
       }
      }
     }
    }
   },
   "outputs": [
    {
     "name": "stdout",
     "output_type": "stream",
     "text": [
      "(123, 784) (123,)\n"
     ]
    }
   ],
   "source": [
    "# prepare a list of fixed points and a list of indices of the dataset, which is\n",
    "# used when rearrange the dataset to put the fixed points to the bottom\n",
    "x_train, y_class = load_dataset(dataset_name)\n",
    "print(x_train.shape, y_class.shape)\n",
    "                                \n",
    "point_indices = list(range(x_train.shape[0]))\n",
    "fixed_points = {\n",
    "    # point_id => ([old_x, old_y], [new_x, new_y])\n",
    "}\n",
    "\n",
    "# keep track of old positions of shape NxK, K=2\n",
    "z_init = None"
   ]
  },
  {
   "cell_type": "code",
   "execution_count": 190,
   "metadata": {
    "extensions": {
     "jupyter_dashboards": {
      "version": 1,
      "views": {
       "grid_default": {
        "hidden": true
       },
       "report_default": {
        "hidden": true
       }
      }
     }
    }
   },
   "outputs": [],
   "source": [
    "def rearrange_fixed_points():\n",
    "    \"\"\"Put a list of fixed points to the bottom of the dataset\"\"\"\n",
    "    global x_train\n",
    "    global y_class\n",
    "    global point_indices\n",
    "    global z_init\n",
    "    \n",
    "    fixed_indices = fixed_points.keys()\n",
    "    new_indices = [i for i in point_indices if i not in fixed_indices]\n",
    "    new_indices += fixed_indices\n",
    "    \n",
    "    point_indices = new_indices\n",
    "    x_train = x_train[new_indices]\n",
    "    y_class = y_class[new_indices]\n",
    "    if z_init is not None:\n",
    "        z_init = z_init[new_indices]\n",
    "        assert(x_train.shape[0] == z_init.shape[0])"
   ]
  },
  {
   "cell_type": "markdown",
   "metadata": {
    "extensions": {
     "jupyter_dashboards": {
      "version": 1,
      "views": {
       "grid_default": {
        "col": 0,
        "height": 4,
        "hidden": false,
        "row": 4,
        "width": 4
       },
       "report_default": {
        "hidden": false
       }
      }
     }
    }
   },
   "source": [
    "### Util functions for interactive viz"
   ]
  },
  {
   "cell_type": "code",
   "execution_count": 204,
   "metadata": {
    "extensions": {
     "jupyter_dashboards": {
      "version": 1,
      "views": {
       "grid_default": {
        "hidden": true
       },
       "report_default": {
        "hidden": true
       }
      }
     }
    }
   },
   "outputs": [],
   "source": [
    "def on_moving_started(source_obj, target):\n",
    "    pos = target['point']\n",
    "    idx = target['index']\n",
    "    fixed_points[idx] = ([pos['x'], pos['y']], [])\n",
    "    lbl_info.value = 'Moving id {} class {}'.format(idx, y_class[idx])\n",
    "    \n",
    "def show_fixed_points():\n",
    "    info = ''\n",
    "    for p in fixed_points:\n",
    "        ([x0, y0], [x1, y1]) = fixed_points[p]\n",
    "        info += '\\nid {}, class {}: [{:.2f}, {:.2f}] -> [{:.2f}, {:.2f}]'.format(\n",
    "            p, y_class[p], x0, y0, x1, y1)\n",
    "    return info\n",
    "    \n",
    "def update_fixed_points(source_obj, target):\n",
    "    pos = target['point']\n",
    "    idx = target['index']\n",
    "    old_pos = fixed_points[idx][0]\n",
    "    new_pos = [pos['x'], pos['y']]\n",
    "    fixed_points[idx] = (old_pos, new_pos)\n",
    "    lbl_info.value = show_fixed_points()\n",
    "    \n",
    "def reset_fixed_points():\n",
    "    global fixed_points\n",
    "    global x_train\n",
    "    global y_class\n",
    "    global point_indices\n",
    "    \n",
    "    fixed_points = {}\n",
    "    x_train, y_class = load_dataset(dataset_name)\n",
    "    point_indices = list(range(x_train.shape[0]))\n",
    "    lbl_info.value = 'Fixed points: []'\n",
    "    \n",
    "def reset_all():\n",
    "    reset_fixed_points()\n",
    "    global z_init\n",
    "    z_init = None"
   ]
  },
  {
   "cell_type": "code",
   "execution_count": 192,
   "metadata": {
    "extensions": {
     "jupyter_dashboards": {
      "version": 1,
      "views": {
       "grid_default": {
        "hidden": true
       },
       "report_default": {
        "hidden": true
       }
      }
     }
    },
    "scrolled": false
   },
   "outputs": [],
   "source": [
    "def viz(x_2d, y_class): # x_2d of shape NxK, K=2\n",
    "    sc_x = LinearScale() # min=-2, max=2\n",
    "    sc_y = LinearScale() # min=-2, max=2\n",
    "    sc_c = OrdinalColorScale(scheme='Paired') #scheme='RdYlGn'\n",
    "    def_tt = Tooltip(fields=['x', 'y', 'color'], formats=['.2f', '.2f', ''])\n",
    "        \n",
    "    # plot current projected points\n",
    "    scatt = Scatter(x=x_2d[:,0], y=x_2d[:,1], color=y_class,\n",
    "                    # names=point_indices,\n",
    "                    stroke='black', stroke_width=0.2,\n",
    "                    scales={'x': sc_x, 'y': sc_y, 'color': sc_c},\n",
    "                    # tooltip=def_tt,\n",
    "                    enable_move=True)\n",
    "    \n",
    "    scatt.on_drag_start(on_moving_started)\n",
    "    scatt.on_drag_end(update_fixed_points)\n",
    "    \n",
    "    ax_x = Axis(scale=sc_x)\n",
    "    ax_y = Axis(scale=sc_y, tick_format='0.2f', orientation='vertical')\n",
    "    \n",
    "    # plot trace from old position\n",
    "    traces = Lines(x=[], y=[], colors=['black'], opacities=[0.6],stroke_width=0.6,\n",
    "                   scales={'x': sc_x, 'y': sc_y})\n",
    "    \n",
    "    # plot trace of fixed points\n",
    "    traces_fixed_points = Lines(x=[], y=[],scales={'x': sc_x, 'y': sc_y})\n",
    "\n",
    "    fig = Figure(marks=[scatt, traces, traces_fixed_points], axes=[ax_x, ax_y])\n",
    "    return fig, scatt, traces, traces_fixed_points"
   ]
  },
  {
   "cell_type": "code",
   "execution_count": 226,
   "metadata": {
    "extensions": {
     "jupyter_dashboards": {
      "version": 1,
      "views": {
       "grid_default": {
        "hidden": true
       },
       "report_default": {
        "hidden": true
       }
      }
     }
    }
   },
   "outputs": [],
   "source": [
    "def update_scatter(scatt, traces, traces_fixed_points, x_2d):   \n",
    "    scatt.x = x_2d[:,0]\n",
    "    scatt.y = x_2d[:,1]\n",
    "    scatt.color = y_class\n",
    "    scatt.default_opacities = [0.6]\n",
    "\n",
    "    x_pos = []\n",
    "    y_pos = []\n",
    "    if z_init is not None:\n",
    "        assert( (x_2d.shape[0] == z_init.shape[0]) and (x_2d.shape[1] == z_init.shape[1]) )            \n",
    "        for i in range(x_2d.shape[0]):\n",
    "            x0, y0 = z_init[i, :]\n",
    "            x1, y1 = x_2d[i, :]\n",
    "            x_pos.append([x0, x1])\n",
    "            y_pos.append([y0, y1])\n",
    "    traces.x = x_pos\n",
    "    traces.y = y_pos\n",
    "    \n",
    "    x_fixed = []\n",
    "    y_fixed = []\n",
    "    for p in fixed_points:\n",
    "        ([x0, y0], [x1, y1]) = fixed_points[p]\n",
    "        x_fixed.append([x0, x1])\n",
    "        y_fixed.append([y0, y1])\n",
    "    traces_fixed_points.x = x_fixed\n",
    "    traces_fixed_points.y = y_fixed"
   ]
  },
  {
   "cell_type": "code",
   "execution_count": 227,
   "metadata": {
    "extensions": {
     "jupyter_dashboards": {
      "version": 1,
      "views": {
       "grid_default": {
        "hidden": true
       },
       "report_default": {
        "hidden": true
       }
      }
     }
    }
   },
   "outputs": [],
   "source": [
    "def loss_chart(losses):\n",
    "    sc_x = LinearScale()\n",
    "    sc_y = LinearScale()\n",
    "    def_tt = Tooltip(fields=['x', 'y'])\n",
    "    line = Lines(x=np.arange(len(losses)), y=losses,\n",
    "                 scales={'x': sc_x, 'y': sc_y})\n",
    "    \n",
    "    ax_x = Axis(scale=sc_x)\n",
    "    ax_y = Axis(scale=sc_y, orientation='vertical') # tick_format='0.2f'\n",
    "    fig = Figure(marks=[line], axes=[ax_x, ax_y])\n",
    "    return fig, line\n",
    "\n",
    "def update_loss_chart(chart, losses):\n",
    "    chart.x=np.arange(len(losses))\n",
    "    chart.y=losses"
   ]
  },
  {
   "cell_type": "code",
   "execution_count": 228,
   "metadata": {
    "extensions": {
     "jupyter_dashboards": {
      "version": 1,
      "views": {
       "grid_default": {
        "hidden": true
       },
       "report_default": {
        "hidden": true
       }
      }
     }
    },
    "scrolled": false
   },
   "outputs": [],
   "source": [
    "fig_margin = {'top':10, 'bottom':20, 'left':65, 'right':0}\n",
    "fig_loss, loss_line = loss_chart([])\n",
    "fig_loss.layout.height = '250px'\n",
    "fig_scatter, scatt, traces, traces_fixed_points = viz(np.zeros([1, 2]), [0])\n",
    "fig_loss.fig_margin = fig_margin\n",
    "fig_scatter.fig_margin = fig_margin\n",
    "\n",
    "ctrl_sigma_data = FloatSlider(\n",
    "    value=0.5,\n",
    "    min=0,\n",
    "    max=2.0,\n",
    "    step=0.1,\n",
    "    description=r'\\(\\sigma^2\\) data',\n",
    "    readout_format='.1f',\n",
    ")\n",
    "\n",
    "ctrl_sigma_fixed = FloatSlider(\n",
    "    value=0.1,\n",
    "    min=0.001,\n",
    "    max=2.0,\n",
    "    step=0.01,\n",
    "    description=r'\\(\\sigma^2\\) fix',\n",
    "    readout_format='.3f',\n",
    ")\n",
    "\n",
    "ctrl_num_epochs = IntSlider(\n",
    "    value=1000,\n",
    "    min=10,\n",
    "    max=2000,\n",
    "    step=10,\n",
    "    description='n_epochs'\n",
    ")\n",
    "\n",
    "def reset_data_and_gui():\n",
    "    reset_all()\n",
    "    scatt.x = []; scatt.y = []\n",
    "    loss_line.x = []; loss_line.y = []\n",
    "    traces.x = []; traces.y = []\n",
    "    traces_fixed_points.x = []; traces_fixed_points.y = []\n",
    "\n",
    "btn_train = Button(description='Train MAP')\n",
    "btn_reset = Button(description='Reset fixed points')\n",
    "btn_reset_all = Button(description='Reset all')\n",
    "btn_reset.on_click(lambda _:reset_fixed_points())\n",
    "btn_reset_all.on_click(lambda _:reset_data_and_gui())\n",
    "btn_train.on_click(lambda _:train_update_result())\n",
    "\n",
    "\n",
    "def train_update_result():\n",
    "    global z_init\n",
    "    fixed_pos = [fixed_points[p][1] for p in fixed_points ]\n",
    "    \n",
    "    losses, w_map, z_mean = train_map(\n",
    "        num_epochs=ctrl_num_epochs.value, \n",
    "        sigma_data=ctrl_sigma_data.value, \n",
    "        sigma_fixed=ctrl_sigma_fixed.value,\n",
    "        fixed_pos=fixed_pos,\n",
    "        loss_line=loss_line)\n",
    "    \n",
    "    update_scatter(scatt, traces, traces_fixed_points, z_mean.T)\n",
    "    if z_init is None:\n",
    "        z_init = z_mean.T\n",
    "    # reset_fixed_points()\n",
    "    \n",
    "lbl_info = Label(color='Green', font_size='32px')\n",
    "lbl_info.value = 'Fixed points: []'\n",
    "\n",
    "ctrl_box = VBox([ctrl_sigma_data, ctrl_sigma_fixed, ctrl_num_epochs])\n",
    "btn_box = HBox([btn_train, btn_reset_all])\n",
    "left_box = VBox([ctrl_box, btn_box, lbl_info],\n",
    "                layout=Layout(flex='2 1 0%', width='auto'))\n",
    "right_box = VBox([fig_loss, fig_scatter],\n",
    "                 layout=Layout(flex='5 1 0%', width='auto'))\n",
    "gui = HBox([left_box, right_box],layout=Layout(display='flex' ,width='100%', height='600px'))"
   ]
  },
  {
   "cell_type": "markdown",
   "metadata": {
    "extensions": {
     "jupyter_dashboards": {
      "version": 1,
      "views": {
       "grid_default": {
        "col": 4,
        "height": 4,
        "hidden": false,
        "row": 4,
        "width": 4
       },
       "report_default": {
        "hidden": false
       }
      }
     }
    }
   },
   "source": [
    "### Base model with original PCA in scikit-learn"
   ]
  },
  {
   "cell_type": "code",
   "execution_count": 229,
   "metadata": {
    "extensions": {
     "jupyter_dashboards": {
      "version": 1,
      "views": {
       "grid_default": {
        "hidden": true
       },
       "report_default": {
        "hidden": true
       }
      }
     }
    }
   },
   "outputs": [],
   "source": [
    "x_2d = PCA(n_components=2, svd_solver='randomized') \\\n",
    "    .fit_transform(x_train)"
   ]
  },
  {
   "cell_type": "code",
   "execution_count": 230,
   "metadata": {
    "extensions": {
     "jupyter_dashboards": {
      "version": 1,
      "views": {
       "grid_default": {
        "col": null,
        "height": 19,
        "hidden": false,
        "row": 12,
        "width": null
       },
       "report_default": {
        "hidden": false
       }
      }
     }
    },
    "scrolled": false
   },
   "outputs": [
    {
     "data": {
      "application/vnd.jupyter.widget-view+json": {
       "model_id": "5616c56b8a484b999f600abfe24d9062",
       "version_major": 2,
       "version_minor": 0
      },
      "text/plain": [
       "A Jupyter Widget"
      ]
     },
     "metadata": {},
     "output_type": "display_data"
    }
   ],
   "source": [
    "fig_scat, scatt1, _, _ = viz(x_2d, y_class)\n",
    "scatt1.enable_move = False\n",
    "VBox([fig_scat, lbl_info])"
   ]
  },
  {
   "cell_type": "markdown",
   "metadata": {
    "extensions": {
     "jupyter_dashboards": {
      "version": 1,
      "views": {
       "grid_default": {
        "col": 0,
        "height": 4,
        "hidden": false,
        "row": 8,
        "width": 4
       },
       "report_default": {
        "hidden": false
       }
      }
     }
    }
   },
   "source": [
    "### Probabilistic PCA"
   ]
  },
  {
   "cell_type": "code",
   "execution_count": 231,
   "metadata": {
    "extensions": {
     "jupyter_dashboards": {
      "version": 1,
      "views": {
       "grid_default": {
        "hidden": true
       },
       "report_default": {
        "hidden": true
       }
      }
     }
    }
   },
   "outputs": [],
   "source": [
    "show_debug = True\n",
    "\n",
    "def ppca_model(N, D, K=2, sigma_data=0.5, sigma_fixed=0.005, fixed_pos=[]):\n",
    "    if show_debug:\n",
    "        print(\"Build PPCA model with sigma_data={}, sigma_fixed={}\".format(sigma_data, sigma_fixed))\n",
    "    \n",
    "    w = ed.Normal(loc=tf.zeros([D, K]), scale=tf.ones([D, K]), name='w')\n",
    "        \n",
    "    n_fixed = len(fixed_pos)\n",
    "    if 0 == n_fixed:\n",
    "        z = ed.Normal(loc=tf.zeros([K, N]),scale=tf.ones([K, N]), name='z')\n",
    "    else:\n",
    "        fixed_pos = np.array(fixed_pos, dtype=np.float32)\n",
    "        z_loc = tf.concat([tf.zeros([K, N - n_fixed]), tf.constant(fixed_pos.T)], axis=1)\n",
    "        \n",
    "        stddv_one_fixed_point = [sigma_fixed] * K\n",
    "        stddv_all_fixed_points = [stddv_one_fixed_point for _ in range(n_fixed)]\n",
    "        stddv_all_fixed_points = np.array(stddv_all_fixed_points, dtype=np.float32)\n",
    "        z_std = tf.concat([tf.ones([K, N - n_fixed]), tf.constant(stddv_all_fixed_points.T)], axis=1)\n",
    "        \n",
    "        z = ed.Normal(loc=z_loc, scale=z_std, name='z')\n",
    "    \n",
    "    x = ed.Normal(loc=tf.matmul(w, z), scale=sigma_data * tf.ones([D, N]), name='x')\n",
    "    return x, w, z"
   ]
  },
  {
   "cell_type": "code",
   "execution_count": 232,
   "metadata": {
    "extensions": {
     "jupyter_dashboards": {
      "version": 1,
      "views": {
       "grid_default": {
        "hidden": true
       },
       "report_default": {
        "hidden": true
       }
      }
     }
    }
   },
   "outputs": [],
   "source": [
    "def train_map(num_epochs=1000, sigma_data=0.5, sigma_fixed=0.005, fixed_pos=[], loss_line=None):\n",
    "    if show_debug:\n",
    "        print('Classes: ', np.unique(y_class))\n",
    "        print('Fixed points: ', show_fixed_points())\n",
    "    \n",
    "    N, D = x_train.shape\n",
    "    K = 2\n",
    "    \n",
    "    log_joint = ed.make_log_joint_fn(ppca_model)\n",
    "    \n",
    "    tf.reset_default_graph()\n",
    "    w = tf.Variable(np.ones([D,K]), dtype=tf.float32)\n",
    "    z = tf.Variable(np.ones([K,N]), dtype=tf.float32)\n",
    "    \n",
    "    rearrange_fixed_points()\n",
    "    \n",
    "    map_obj = -log_joint(N=N, D=D, K=K,\n",
    "        sigma_data=sigma_data, sigma_fixed=sigma_fixed,\n",
    "        fixed_pos=np.array(fixed_pos, dtype=np.float32),\n",
    "        x=x_train.T, w=w,z=z)\n",
    "    train_proc = tf.train.AdamOptimizer(learning_rate=0.05).minimize(map_obj)\n",
    "\n",
    "    losses = []\n",
    "    with tf.Session() as sess:\n",
    "        sess.run(tf.global_variables_initializer())\n",
    "\n",
    "        for i in range(num_epochs):\n",
    "            sess.run(train_proc)\n",
    "            if i % 10 == 0:\n",
    "                loss = sess.run(map_obj)\n",
    "                losses.append(loss)\n",
    "                if loss_line is not None:\n",
    "                    update_loss_chart(loss_line, losses)\n",
    "        w,z = sess.run([w,z])\n",
    "\n",
    "    return losses, w, z"
   ]
  },
  {
   "cell_type": "code",
   "execution_count": 233,
   "metadata": {
    "extensions": {
     "jupyter_dashboards": {
      "version": 1,
      "views": {
       "grid_default": {
        "col": null,
        "height": 23,
        "hidden": false,
        "row": 31,
        "width": null
       },
       "report_default": {
        "hidden": false
       }
      }
     }
    },
    "scrolled": false
   },
   "outputs": [
    {
     "data": {
      "application/vnd.jupyter.widget-view+json": {
       "model_id": "f9fa76e395f44648b195a412b36afacb",
       "version_major": 2,
       "version_minor": 0
      },
      "text/plain": [
       "A Jupyter Widget"
      ]
     },
     "metadata": {},
     "output_type": "display_data"
    },
    {
     "name": "stdout",
     "output_type": "stream",
     "text": [
      "Classes:  [0 1]\n",
      "Fixed points:  \n",
      "Build PPCA model with sigma_data=0.5, sigma_fixed=0.1\n",
      "Classes:  [0 1]\n",
      "Fixed points:  \n",
      "id 85, class 1: [-0.55, -0.30] -> [-0.59, 0.05]\n",
      "id 125, class 1: [-0.56, -0.40] -> [-0.61, 0.31]\n",
      "id 74, class 1: [-0.53, -0.43] -> [-0.60, 0.18]\n",
      "Build PPCA model with sigma_data=0.5, sigma_fixed=0.1\n",
      "Classes:  [0 1]\n",
      "Fixed points:  \n",
      "Build PPCA model with sigma_data=0.1, sigma_fixed=0.1\n",
      "Classes:  [0 1]\n",
      "Fixed points:  \n",
      "id 89, class 1: [-0.21, -0.44] -> [-0.01, -0.46]\n",
      "id 85, class 1: [-0.25, -0.47] -> [0.04, -0.48]\n",
      "id 125, class 1: [-0.33, -0.47] -> [0.09, -0.49]\n",
      "Build PPCA model with sigma_data=0.1, sigma_fixed=0.1\n",
      "Classes:  [0 1]\n",
      "Fixed points:  \n",
      "Build PPCA model with sigma_data=0.2, sigma_fixed=0.1\n"
     ]
    }
   ],
   "source": [
    "gui"
   ]
  },
  {
   "cell_type": "code",
   "execution_count": 224,
   "metadata": {
    "scrolled": true
   },
   "outputs": [
    {
     "data": {
      "application/vnd.jupyter.widget-view+json": {
       "model_id": "20f1e6315fe64c7aa7e515679715e80e",
       "version_major": 2,
       "version_minor": 0
      },
      "text/plain": [
       "A Jupyter Widget"
      ]
     },
     "metadata": {},
     "output_type": "display_data"
    }
   ],
   "source": [
    "@interact(_show_label=False, _show_traces=True, _show_debug=True)\n",
    "def togle_flags(_show_label, _show_traces, _show_debug):\n",
    "    global show_debug\n",
    "    show_debug = _show_debug\n",
    "\n",
    "    scatt.names = point_indices\n",
    "    scatt.display_names = _show_label\n",
    "    \n",
    "    if _show_traces:\n",
    "        fig_scatter.marks = [scatt, traces, traces_fixed_points]\n",
    "    else:\n",
    "        fig_scatter.marks = [scatt]"
   ]
  },
  {
   "cell_type": "code",
   "execution_count": 211,
   "metadata": {},
   "outputs": [
    {
     "data": {
      "application/vnd.jupyter.widget-view+json": {
       "model_id": "802f02204f784b7ea561ac91030e03eb",
       "version_major": 2,
       "version_minor": 0
      },
      "text/plain": [
       "A Jupyter Widget"
      ]
     },
     "metadata": {},
     "output_type": "display_data"
    }
   ],
   "source": [
    "@interact(n_selected=(10, 500), c0=True, c1=True, c2=False, c3=False, c4=False, c5=False, c6=False, c7=False, c8=False, c9=False)\n",
    "def load_mnist_by_class(n_selected,c0,c1,c2,c3,c4,c5,c6,c7,c8,c9):\n",
    "    global selected_classes\n",
    "    global num_datapoints\n",
    "    num_datapoints = n_selected\n",
    "    params = locals()\n",
    "    selected_classes = [i for i in range(10) if params['c{}'.format(i)]]\n",
    "    print(selected_classes)"
   ]
  },
  {
   "cell_type": "code",
   "execution_count": null,
   "metadata": {},
   "outputs": [],
   "source": []
  }
 ],
 "metadata": {
  "extensions": {
   "jupyter_dashboards": {
    "activeView": "report_default",
    "version": 1,
    "views": {
     "grid_default": {
      "cellMargin": 10,
      "defaultCellHeight": 20,
      "maxColumns": 12,
      "name": "grid",
      "type": "grid"
     },
     "report_default": {
      "name": "report",
      "type": "report"
     }
    }
   }
  },
  "kernelspec": {
   "display_name": "Python 3",
   "language": "python",
   "name": "python3"
  },
  "language_info": {
   "codemirror_mode": {
    "name": "ipython",
    "version": 3
   },
   "file_extension": ".py",
   "mimetype": "text/x-python",
   "name": "python",
   "nbconvert_exporter": "python",
   "pygments_lexer": "ipython3",
   "version": "3.6.2"
  }
 },
 "nbformat": 4,
 "nbformat_minor": 2
}
