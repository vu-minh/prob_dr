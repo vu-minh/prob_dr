{
 "cells": [
  {
   "cell_type": "markdown",
   "metadata": {},
   "source": [
    "### Interactive notebook for moving points with PPCA"
   ]
  },
  {
   "cell_type": "code",
   "execution_count": 2,
   "metadata": {},
   "outputs": [],
   "source": [
    "from __future__ import print_function\n",
    "\n",
    "import numpy as np\n",
    "import tensorflow as tf\n",
    "import tensorflow_probability as tfp\n",
    "from tensorflow_probability import edward2 as ed\n",
    "\n",
    "from sklearn.decomposition import PCA\n",
    "\n",
    "from bqplot import (\n",
    "    Axis, ColorAxis, LinearScale, DateScale, DateColorScale, OrdinalScale,\n",
    "    OrdinalColorScale, ColorScale, Scatter, Lines, Figure, Tooltip\n",
    ")\n",
    "from ipywidgets import VBox, HBox, Layout\n",
    "from ipywidgets import Label\n",
    "\n",
    "from observations import iris, mnist\n",
    "DATA_DIR = './data'\n",
    "\n",
    "import warnings\n",
    "warnings.filterwarnings('ignore')\n",
    "\n",
    "seed = 2018\n",
    "np.random.seed(seed)\n",
    "tf.set_random_seed(seed)"
   ]
  },
  {
   "cell_type": "markdown",
   "metadata": {},
   "source": [
    "### Prepare dataset"
   ]
  },
  {
   "cell_type": "code",
   "execution_count": 5,
   "metadata": {},
   "outputs": [
    {
     "name": "stdout",
     "output_type": "stream",
     "text": [
      "(150, 4) (150,)\n"
     ]
    }
   ],
   "source": [
    "x_train, y_train, _ = iris(DATA_DIR)\n",
    "y_labels = np.unique(y_train)\n",
    "y_label_map = dict((label, i) for i, label in enumerate(y_labels))\n",
    "y_class = np.array(list(map(lambda label: y_label_map[label] , y_train)))\n",
    "print(x_train.shape, y_train.shape)"
   ]
  },
  {
   "cell_type": "code",
   "execution_count": 4,
   "metadata": {
    "scrolled": true
   },
   "outputs": [
    {
     "name": "stdout",
     "output_type": "stream",
     "text": [
      "(500, 784) (500,)\n"
     ]
    }
   ],
   "source": [
    "(x_train, y_train), (x_test, y_test) = mnist(DATA_DIR)\n",
    "N = 500\n",
    "x_train = x_train[:N]\n",
    "y_class = y_train[:N]\n",
    "print(x_train.shape, y_class.shape)"
   ]
  },
  {
   "cell_type": "code",
   "execution_count": 38,
   "metadata": {},
   "outputs": [],
   "source": [
    "# prepare a list of fixed points and a list of indices of the dataset, which is\n",
    "# used when rearrange the dataset to put the fixed points to the bottom\n",
    "N, D = x_train.shape\n",
    "K = 2\n",
    "point_indices = list(range(N))\n",
    "fixed_points = {\n",
    "    # point_id => ([old_x, old_y], [new_x, new_y])\n",
    "}"
   ]
  },
  {
   "cell_type": "code",
   "execution_count": 7,
   "metadata": {},
   "outputs": [],
   "source": [
    "def rearrange_fixed_points():\n",
    "    \"\"\"Put a list of fixed points to the bottom of the dataset\"\"\"\n",
    "    global x_train\n",
    "    global y_class\n",
    "    global point_indices\n",
    "    \n",
    "    fixed_indices = fixed_points.keys()\n",
    "    new_indices = [i for i in point_indices if i not in fixed_indices]\n",
    "    new_indices += fixed_indices\n",
    "    \n",
    "    point_indices = new_indices    \n",
    "    x_train = x_train[new_indices]\n",
    "    y_class = y_class[new_indices]"
   ]
  },
  {
   "cell_type": "markdown",
   "metadata": {},
   "source": [
    "### Util functions for interactive viz"
   ]
  },
  {
   "cell_type": "code",
   "execution_count": 8,
   "metadata": {
    "scrolled": false
   },
   "outputs": [],
   "source": [
    "lbl_info = Label(color='Green', font_size='32px')\n",
    "lbl_info.value = 'Fixed points: []'"
   ]
  },
  {
   "cell_type": "code",
   "execution_count": 63,
   "metadata": {},
   "outputs": [],
   "source": [
    "def on_moving_started(source_obj, target):\n",
    "    pos = target['point']\n",
    "    idx = target['index']\n",
    "    fixed_points[idx] = ([pos['x'], pos['y']], [])\n",
    "    lbl_info.value = 'Moving id {} class {}'.format(idx, y_class[idx])\n",
    "    \n",
    "def update_fixed_points(source_obj, target):\n",
    "    pos = target['point']\n",
    "    idx = target['index']\n",
    "    old_pos = fixed_points[idx][0]\n",
    "    new_pos = [pos['x'], pos['y']]\n",
    "    fixed_points[idx] = (old_pos, new_pos)\n",
    "    \n",
    "    info = ''\n",
    "    for p in fixed_points:\n",
    "        ([x0, y0], [x1, y1]) = fixed_points[p]\n",
    "        info += '\\nid {}, class {}: [{:.2f}, {:.2f}] -> [{:.2f}, {:.2f}]'.format(\n",
    "            p, y_class[p], x0, y0, x1, y1)\n",
    "    lbl_info.value = info\n",
    "    \n",
    "def reset_fixed_points():\n",
    "    global fixed_points\n",
    "    fixed_points = {}\n",
    "    lbl_info.value = 'Fixed points: []'"
   ]
  },
  {
   "cell_type": "code",
   "execution_count": 42,
   "metadata": {
    "scrolled": false
   },
   "outputs": [],
   "source": [
    "def viz(x_2d, y_class):\n",
    "    sc_x = LinearScale()\n",
    "    sc_y = LinearScale()\n",
    "    sc_c = OrdinalColorScale(scheme='Paired') #scheme='RdYlGn'\n",
    "    def_tt = Tooltip(fields=['x', 'y', 'color'], formats=['.2f', '.2f', ''])\n",
    "    scatt = Scatter(x=x_2d[:,0], y=x_2d[:,1], color=y_class,\n",
    "                    scales={'x': sc_x, 'y': sc_y, 'color': sc_c},\n",
    "                    # tooltip=def_tt,\n",
    "                    enable_move=True,\n",
    "                    display_legend=False)\n",
    "    \n",
    "    scatt.on_drag_start(on_moving_started)\n",
    "    scatt.on_drag_end(update_fixed_points)\n",
    "    \n",
    "    ax_x = Axis(scale=sc_x)\n",
    "    ax_y = Axis(scale=sc_y, tick_format='0.2f', orientation='vertical')\n",
    "    fig = Figure(marks=[scatt], axes=[ax_x, ax_y])\n",
    "    return fig, scatt"
   ]
  },
  {
   "cell_type": "code",
   "execution_count": 11,
   "metadata": {},
   "outputs": [],
   "source": [
    "def update_scatter(scatt, x_2d, y_class):\n",
    "    scatt.x = x_2d[:,0]\n",
    "    scatt.y = x_2d[:,1]\n",
    "    scatt.color = y_class"
   ]
  },
  {
   "cell_type": "code",
   "execution_count": 12,
   "metadata": {},
   "outputs": [],
   "source": [
    "def loss_chart(losses):\n",
    "    sc_x = LinearScale()\n",
    "    sc_y = LinearScale()\n",
    "    def_tt = Tooltip(fields=['x', 'y'])\n",
    "    line = Lines(x=np.arange(len(losses)), y=losses,\n",
    "                 scales={'x': sc_x, 'y': sc_y})\n",
    "    \n",
    "    ax_x = Axis(scale=sc_x)\n",
    "    ax_y = Axis(scale=sc_y, tick_format='0.2f', orientation='vertical')\n",
    "    fig = Figure(marks=[line], axes=[ax_x, ax_y])\n",
    "    return fig, line\n",
    "\n",
    "def update_loss_chart(chart, losses):\n",
    "    chart.x=np.arange(len(losses))\n",
    "    chart.y=losses"
   ]
  },
  {
   "cell_type": "markdown",
   "metadata": {},
   "source": [
    "### Base model with original PCA in scikit-learn"
   ]
  },
  {
   "cell_type": "code",
   "execution_count": 13,
   "metadata": {},
   "outputs": [],
   "source": [
    "x_2d = PCA(n_components=2, svd_solver='randomized') \\\n",
    "    .fit_transform(x_train)"
   ]
  },
  {
   "cell_type": "code",
   "execution_count": 64,
   "metadata": {
    "scrolled": false
   },
   "outputs": [
    {
     "data": {
      "application/vnd.jupyter.widget-view+json": {
       "model_id": "a39c3878366d4e4884585698955346f4",
       "version_major": 2,
       "version_minor": 0
      },
      "text/plain": [
       "A Jupyter Widget"
      ]
     },
     "metadata": {},
     "output_type": "display_data"
    }
   ],
   "source": [
    "fig1, scatt1 = viz(x_2d, y_class)\n",
    "# scatt1.enable_move = False\n",
    "VBox([fig1, lbl_info])"
   ]
  },
  {
   "cell_type": "markdown",
   "metadata": {},
   "source": [
    "### Probabilistic PCA"
   ]
  },
  {
   "cell_type": "code",
   "execution_count": 27,
   "metadata": {},
   "outputs": [],
   "source": [
    "def ppca_model(sigma_noise=0.5, sigma_fixed=0.005):\n",
    "    \n",
    "    w = ed.Normal(loc=tf.zeros([D, K]),\n",
    "                  scale=tf.ones([D, K]),\n",
    "                  name='w')\n",
    "        \n",
    "    n_fixed = len(fixed_points)\n",
    "    if 0 == n_fixed:\n",
    "        z = ed.Normal(loc=tf.zeros([K, N]),\n",
    "                      scale=tf.ones([K, N]),\n",
    "                      name='z')\n",
    "    else:\n",
    "        print('{} fixed points:'.format(n_fixed))\n",
    "        for fixed_id in fixed_points.keys():\n",
    "            print('id: {}, class: {}'.format(fixed_id, y_class[fixed_id]))\n",
    "        fixed_pos = list(fixed_points.values())\n",
    "        fixed_pos = np.array(fixed_pos, dtype=np.float32)\n",
    "        \n",
    "        z_loc = tf.concat([\n",
    "            tf.zeros([K, N - n_fixed]),\n",
    "            tf.constant(fixed_pos.T)\n",
    "        ], axis=1)\n",
    "        \n",
    "        stddv_one_fixed_point = [sigma_fixed] * K\n",
    "        stddv_all_fixed_points = [stddv_one_fixed_point for _ in range(n_fixed)]\n",
    "        stddv_all_fixed_points = np.array(stddv_all_fixed_points, dtype=np.float32)\n",
    "        \n",
    "        z_std = tf.concat([\n",
    "            tf.ones([K, N - n_fixed]),\n",
    "            tf.constant(stddv_all_fixed_points.T)\n",
    "        ], axis=1)\n",
    "        \n",
    "        z = ed.Normal(loc=z_loc, scale=z_std, name='z')\n",
    "    \n",
    "    x = ed.Normal(loc=tf.matmul(w, z),\n",
    "                  scale=sigma_noise * tf.ones([D, N]),\n",
    "                  name='x')\n",
    "    return x, w, z"
   ]
  },
  {
   "cell_type": "code",
   "execution_count": 28,
   "metadata": {},
   "outputs": [],
   "source": [
    "def train_map(num_epochs=1000):\n",
    "    log_joint = ed.make_log_joint_fn(ppca_model)\n",
    "    \n",
    "    tf.reset_default_graph()\n",
    "    w = tf.Variable(np.ones([D,K]), dtype=tf.float32)\n",
    "    z = tf.Variable(np.ones([K,N]), dtype=tf.float32)\n",
    "    \n",
    "    # TODO: fix this\n",
    "    rearrange_fixed_points()\n",
    "    \n",
    "    map_obj = -log_joint(\n",
    "        fixed_points=list(fixed_points.values()),\n",
    "        x=x_train.T, w=w,z=z)\n",
    "    train_proc = tf.train.AdamOptimizer(learning_rate=0.05).minimize(map_obj)\n",
    "\n",
    "    losses = []\n",
    "    with tf.Session() as sess:\n",
    "        sess.run(tf.global_variables_initializer())\n",
    "\n",
    "        for i in range(1000):\n",
    "            sess.run(train_proc)\n",
    "            if i % 10 == 0:\n",
    "                loss = sess.run(map_obj)\n",
    "                losses.append(loss)\n",
    "                update_loss_chart(loss_line, losses)\n",
    "        w,z = sess.run([w,z])\n",
    "\n",
    "    return losses, w, z"
   ]
  },
  {
   "cell_type": "code",
   "execution_count": 29,
   "metadata": {},
   "outputs": [
    {
     "data": {
      "application/vnd.jupyter.widget-view+json": {
       "model_id": "3ed777ce15574680a01ec69c8868e107",
       "version_major": 2,
       "version_minor": 0
      },
      "text/plain": [
       "A Jupyter Widget"
      ]
     },
     "metadata": {},
     "output_type": "display_data"
    }
   ],
   "source": [
    "fig_loss, loss_line = loss_chart([])"
   ]
  },
  {
   "cell_type": "code",
   "execution_count": 36,
   "metadata": {},
   "outputs": [
    {
     "name": "stdout",
     "output_type": "stream",
     "text": [
      "3 fixed points:\n",
      "id: 46, class: 0\n",
      "id: 106, class: 2\n",
      "id: 50, class: 1\n"
     ]
    }
   ],
   "source": [
    "losses, w_map, z_mean = train_map(num_epochs=1000)"
   ]
  },
  {
   "cell_type": "code",
   "execution_count": 35,
   "metadata": {},
   "outputs": [
    {
     "data": {
      "application/vnd.jupyter.widget-view+json": {
       "model_id": "b9d600d62f66412f888096fd5fb78f1c",
       "version_major": 2,
       "version_minor": 0
      },
      "text/plain": [
       "A Jupyter Widget"
      ]
     },
     "metadata": {},
     "output_type": "display_data"
    }
   ],
   "source": [
    "fig2, scatt2 = viz(z_mean.T, y_class)\n",
    "VBox([HBox([fig2, fig_loss]), lbl_info])"
   ]
  },
  {
   "cell_type": "code",
   "execution_count": 37,
   "metadata": {},
   "outputs": [],
   "source": [
    "update_scatter(scatt2, z_mean.T, y_class)\n",
    "reset_fixed_points()"
   ]
  },
  {
   "cell_type": "code",
   "execution_count": 65,
   "metadata": {},
   "outputs": [
    {
     "name": "stdout",
     "output_type": "stream",
     "text": [
      "{}\n"
     ]
    }
   ],
   "source": [
    "reset_fixed_points()\n",
    "print(fixed_points)"
   ]
  }
 ],
 "metadata": {
  "kernelspec": {
   "display_name": "Python 3",
   "language": "python",
   "name": "python3"
  },
  "language_info": {
   "codemirror_mode": {
    "name": "ipython",
    "version": 3
   },
   "file_extension": ".py",
   "mimetype": "text/x-python",
   "name": "python",
   "nbconvert_exporter": "python",
   "pygments_lexer": "ipython3",
   "version": "3.6.2"
  }
 },
 "nbformat": 4,
 "nbformat_minor": 2
}
