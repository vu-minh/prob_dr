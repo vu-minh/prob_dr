{
 "cells": [
  {
   "cell_type": "markdown",
   "metadata": {},
   "source": [
    "### Interactive notebook for moving points with PPCA"
   ]
  },
  {
   "cell_type": "code",
   "execution_count": 1,
   "metadata": {
    "collapsed": true
   },
   "outputs": [
    {
     "name": "stderr",
     "output_type": "stream",
     "text": [
      "/opt/anaconda3/lib/python3.6/importlib/_bootstrap.py:205: RuntimeWarning: numpy.dtype size changed, may indicate binary incompatibility. Expected 96, got 88\n",
      "  return f(*args, **kwds)\n",
      "/opt/anaconda3/lib/python3.6/importlib/_bootstrap.py:205: ImportWarning: can't resolve package from __spec__ or __package__, falling back on __name__ and __path__\n",
      "  return f(*args, **kwds)\n",
      "/opt/anaconda3/lib/python3.6/importlib/_bootstrap.py:205: RuntimeWarning: numpy.dtype size changed, may indicate binary incompatibility. Expected 96, got 88\n",
      "  return f(*args, **kwds)\n",
      "/opt/anaconda3/lib/python3.6/importlib/_bootstrap.py:205: ImportWarning: can't resolve package from __spec__ or __package__, falling back on __name__ and __path__\n",
      "  return f(*args, **kwds)\n",
      "/opt/anaconda3/lib/python3.6/importlib/_bootstrap.py:205: RuntimeWarning: numpy.dtype size changed, may indicate binary incompatibility. Expected 96, got 88\n",
      "  return f(*args, **kwds)\n",
      "/opt/anaconda3/lib/python3.6/importlib/_bootstrap.py:205: ImportWarning: can't resolve package from __spec__ or __package__, falling back on __name__ and __path__\n",
      "  return f(*args, **kwds)\n",
      "/opt/anaconda3/lib/python3.6/importlib/_bootstrap.py:205: ImportWarning: can't resolve package from __spec__ or __package__, falling back on __name__ and __path__\n",
      "  return f(*args, **kwds)\n",
      "/opt/anaconda3/lib/python3.6/importlib/_bootstrap.py:205: RuntimeWarning: numpy.dtype size changed, may indicate binary incompatibility. Expected 96, got 88\n",
      "  return f(*args, **kwds)\n",
      "/opt/anaconda3/lib/python3.6/importlib/_bootstrap.py:205: ImportWarning: can't resolve package from __spec__ or __package__, falling back on __name__ and __path__\n",
      "  return f(*args, **kwds)\n",
      "/opt/anaconda3/lib/python3.6/importlib/_bootstrap.py:205: ImportWarning: can't resolve package from __spec__ or __package__, falling back on __name__ and __path__\n",
      "  return f(*args, **kwds)\n",
      "/opt/anaconda3/lib/python3.6/importlib/_bootstrap.py:205: ImportWarning: can't resolve package from __spec__ or __package__, falling back on __name__ and __path__\n",
      "  return f(*args, **kwds)\n",
      "/opt/anaconda3/lib/python3.6/importlib/_bootstrap.py:205: RuntimeWarning: numpy.dtype size changed, may indicate binary incompatibility. Expected 96, got 88\n",
      "  return f(*args, **kwds)\n",
      "/opt/anaconda3/lib/python3.6/importlib/_bootstrap.py:205: RuntimeWarning: numpy.dtype size changed, may indicate binary incompatibility. Expected 96, got 88\n",
      "  return f(*args, **kwds)\n",
      "/opt/anaconda3/lib/python3.6/importlib/_bootstrap.py:205: ImportWarning: can't resolve package from __spec__ or __package__, falling back on __name__ and __path__\n",
      "  return f(*args, **kwds)\n",
      "/opt/anaconda3/lib/python3.6/importlib/_bootstrap.py:205: ImportWarning: can't resolve package from __spec__ or __package__, falling back on __name__ and __path__\n",
      "  return f(*args, **kwds)\n",
      "/opt/anaconda3/lib/python3.6/importlib/_bootstrap.py:205: ImportWarning: can't resolve package from __spec__ or __package__, falling back on __name__ and __path__\n",
      "  return f(*args, **kwds)\n",
      "/opt/anaconda3/lib/python3.6/importlib/_bootstrap.py:205: ImportWarning: can't resolve package from __spec__ or __package__, falling back on __name__ and __path__\n",
      "  return f(*args, **kwds)\n",
      "/opt/anaconda3/lib/python3.6/importlib/_bootstrap.py:205: RuntimeWarning: numpy.dtype size changed, may indicate binary incompatibility. Expected 96, got 88\n",
      "  return f(*args, **kwds)\n",
      "/opt/anaconda3/lib/python3.6/importlib/_bootstrap.py:205: ImportWarning: can't resolve package from __spec__ or __package__, falling back on __name__ and __path__\n",
      "  return f(*args, **kwds)\n",
      "/opt/anaconda3/lib/python3.6/importlib/_bootstrap.py:205: RuntimeWarning: numpy.dtype size changed, may indicate binary incompatibility. Expected 96, got 88\n",
      "  return f(*args, **kwds)\n",
      "/opt/anaconda3/lib/python3.6/importlib/_bootstrap.py:205: ImportWarning: can't resolve package from __spec__ or __package__, falling back on __name__ and __path__\n",
      "  return f(*args, **kwds)\n",
      "/opt/anaconda3/lib/python3.6/importlib/_bootstrap.py:205: ImportWarning: can't resolve package from __spec__ or __package__, falling back on __name__ and __path__\n",
      "  return f(*args, **kwds)\n",
      "/opt/anaconda3/lib/python3.6/importlib/_bootstrap.py:205: RuntimeWarning: numpy.dtype size changed, may indicate binary incompatibility. Expected 96, got 88\n",
      "  return f(*args, **kwds)\n",
      "/opt/anaconda3/lib/python3.6/importlib/_bootstrap.py:205: ImportWarning: can't resolve package from __spec__ or __package__, falling back on __name__ and __path__\n",
      "  return f(*args, **kwds)\n",
      "/opt/anaconda3/lib/python3.6/importlib/_bootstrap.py:205: RuntimeWarning: numpy.dtype size changed, may indicate binary incompatibility. Expected 96, got 88\n",
      "  return f(*args, **kwds)\n",
      "/opt/anaconda3/lib/python3.6/importlib/_bootstrap.py:205: ImportWarning: can't resolve package from __spec__ or __package__, falling back on __name__ and __path__\n",
      "  return f(*args, **kwds)\n",
      "/opt/anaconda3/lib/python3.6/importlib/_bootstrap.py:205: ImportWarning: can't resolve package from __spec__ or __package__, falling back on __name__ and __path__\n",
      "  return f(*args, **kwds)\n",
      "/opt/anaconda3/lib/python3.6/importlib/_bootstrap.py:205: ImportWarning: can't resolve package from __spec__ or __package__, falling back on __name__ and __path__\n",
      "  return f(*args, **kwds)\n",
      "/opt/anaconda3/lib/python3.6/importlib/_bootstrap.py:205: ImportWarning: can't resolve package from __spec__ or __package__, falling back on __name__ and __path__\n",
      "  return f(*args, **kwds)\n",
      "/opt/anaconda3/lib/python3.6/importlib/_bootstrap.py:205: RuntimeWarning: numpy.dtype size changed, may indicate binary incompatibility. Expected 96, got 88\n",
      "  return f(*args, **kwds)\n",
      "/opt/anaconda3/lib/python3.6/importlib/_bootstrap.py:205: RuntimeWarning: numpy.dtype size changed, may indicate binary incompatibility. Expected 96, got 88\n",
      "  return f(*args, **kwds)\n",
      "/opt/anaconda3/lib/python3.6/importlib/_bootstrap.py:205: ImportWarning: can't resolve package from __spec__ or __package__, falling back on __name__ and __path__\n",
      "  return f(*args, **kwds)\n",
      "/opt/anaconda3/lib/python3.6/importlib/_bootstrap.py:205: ImportWarning: can't resolve package from __spec__ or __package__, falling back on __name__ and __path__\n",
      "  return f(*args, **kwds)\n",
      "/opt/anaconda3/lib/python3.6/importlib/_bootstrap.py:205: RuntimeWarning: numpy.dtype size changed, may indicate binary incompatibility. Expected 96, got 88\n",
      "  return f(*args, **kwds)\n",
      "/opt/anaconda3/lib/python3.6/importlib/_bootstrap.py:205: ImportWarning: can't resolve package from __spec__ or __package__, falling back on __name__ and __path__\n",
      "  return f(*args, **kwds)\n",
      "/opt/anaconda3/lib/python3.6/importlib/_bootstrap.py:205: ImportWarning: can't resolve package from __spec__ or __package__, falling back on __name__ and __path__\n",
      "  return f(*args, **kwds)\n",
      "/opt/anaconda3/lib/python3.6/importlib/_bootstrap.py:205: ImportWarning: can't resolve package from __spec__ or __package__, falling back on __name__ and __path__\n",
      "  return f(*args, **kwds)\n",
      "/opt/anaconda3/lib/python3.6/importlib/_bootstrap.py:205: ImportWarning: can't resolve package from __spec__ or __package__, falling back on __name__ and __path__\n",
      "  return f(*args, **kwds)\n",
      "/opt/anaconda3/lib/python3.6/importlib/_bootstrap.py:205: ImportWarning: can't resolve package from __spec__ or __package__, falling back on __name__ and __path__\n",
      "  return f(*args, **kwds)\n",
      "/opt/anaconda3/lib/python3.6/importlib/_bootstrap.py:205: ImportWarning: can't resolve package from __spec__ or __package__, falling back on __name__ and __path__\n",
      "  return f(*args, **kwds)\n",
      "/opt/anaconda3/lib/python3.6/importlib/_bootstrap.py:205: RuntimeWarning: numpy.dtype size changed, may indicate binary incompatibility. Expected 96, got 88\n",
      "  return f(*args, **kwds)\n",
      "/opt/anaconda3/lib/python3.6/importlib/_bootstrap.py:205: ImportWarning: can't resolve package from __spec__ or __package__, falling back on __name__ and __path__\n",
      "  return f(*args, **kwds)\n",
      "/opt/anaconda3/lib/python3.6/importlib/_bootstrap.py:205: ImportWarning: can't resolve package from __spec__ or __package__, falling back on __name__ and __path__\n",
      "  return f(*args, **kwds)\n",
      "/opt/anaconda3/lib/python3.6/importlib/_bootstrap.py:205: ImportWarning: can't resolve package from __spec__ or __package__, falling back on __name__ and __path__\n",
      "  return f(*args, **kwds)\n",
      "/opt/anaconda3/lib/python3.6/importlib/_bootstrap.py:205: ImportWarning: can't resolve package from __spec__ or __package__, falling back on __name__ and __path__\n",
      "  return f(*args, **kwds)\n",
      "/opt/anaconda3/lib/python3.6/importlib/_bootstrap.py:205: ImportWarning: can't resolve package from __spec__ or __package__, falling back on __name__ and __path__\n",
      "  return f(*args, **kwds)\n",
      "/opt/anaconda3/lib/python3.6/importlib/_bootstrap.py:205: RuntimeWarning: numpy.dtype size changed, may indicate binary incompatibility. Expected 96, got 88\n",
      "  return f(*args, **kwds)\n",
      "/opt/anaconda3/lib/python3.6/importlib/_bootstrap.py:205: ImportWarning: can't resolve package from __spec__ or __package__, falling back on __name__ and __path__\n",
      "  return f(*args, **kwds)\n",
      "/opt/anaconda3/lib/python3.6/site-packages/bqplot/scales.py:433: DeprecationWarning: metadata {'args': (None,)} was set from the constructor. With traitlets 4.1, metadata should be set using the .tag() method, e.g., Int().tag(key1='value1', key2='value2')\n",
      "  min = Date(default_value=None, allow_none=True).tag(sync=True)\n",
      "/opt/anaconda3/lib/python3.6/site-packages/bqplot/marks.py:827: DeprecationWarning: metadata {'sync': True, 'display_name': 'Fill color for the box'} was set from the constructor. With traitlets 4.1, metadata should be set using the .tag() method, e.g., Int().tag(key1='value1', key2='value2')\n",
      "  box_fill_color = Color('steelblue', sync=True, display_name='Fill color for the box')\n",
      "/opt/anaconda3/lib/python3.6/site-packages/bqplot/marks.py:993: DeprecationWarning: metadata {'display_name': 'Marker'} was set from the constructor. With traitlets 4.1, metadata should be set using the .tag() method, e.g., Int().tag(key1='value1', key2='value2')\n",
      "  marker = Enum(['candle', 'bar'], default_value='candle', display_name='Marker').tag(sync=True)\n"
     ]
    }
   ],
   "source": [
    "from __future__ import print_function\n",
    "\n",
    "import warnings\n",
    "warnings.filterwarnings('ignore')\n",
    "\n",
    "import numpy as np\n",
    "import tensorflow as tf\n",
    "import tensorflow_probability as tfp\n",
    "from tensorflow_probability import edward2 as ed\n",
    "\n",
    "from sklearn.decomposition import PCA\n",
    "\n",
    "from bqplot import (\n",
    "    Axis, ColorAxis, LinearScale, DateScale, DateColorScale, OrdinalScale,\n",
    "    OrdinalColorScale, ColorScale, Scatter, Lines, Figure, Tooltip\n",
    ")\n",
    "from ipywidgets import VBox, HBox, Layout\n",
    "from ipywidgets import Label, Button, IntSlider, FloatSlider\n",
    "from ipywidgets import interactive_output\n",
    "\n",
    "from observations import iris, mnist\n",
    "DATA_DIR = './data'\n",
    "\n",
    "seed = 2018\n",
    "np.random.seed(seed)\n",
    "tf.set_random_seed(seed)"
   ]
  },
  {
   "cell_type": "markdown",
   "metadata": {},
   "source": [
    "### Prepare dataset"
   ]
  },
  {
   "cell_type": "code",
   "execution_count": 2,
   "metadata": {},
   "outputs": [],
   "source": [
    "dataset_name='iris'"
   ]
  },
  {
   "cell_type": "code",
   "execution_count": 23,
   "metadata": {},
   "outputs": [],
   "source": [
    "def load_dataset(name):\n",
    "    if name=='iris':\n",
    "        x_train, y_class = load_iris()\n",
    "    elif name=='mnist':\n",
    "        x_train, y_class = load_mnist()\n",
    "    else:\n",
    "        raise ValueError('Invalid dataset name: {}'.format(name))\n",
    "    return x_train, y_class"
   ]
  },
  {
   "cell_type": "code",
   "execution_count": 4,
   "metadata": {},
   "outputs": [],
   "source": [
    "def load_iris():\n",
    "    x_train, y_train, _ = iris(DATA_DIR)\n",
    "    y_labels = np.unique(y_train)\n",
    "    y_label_map = dict((label, i) for i, label in enumerate(y_labels))\n",
    "    y_class = np.array(list(map(lambda label: y_label_map[label] , y_train)))\n",
    "    return x_train, y_class"
   ]
  },
  {
   "cell_type": "code",
   "execution_count": 5,
   "metadata": {
    "scrolled": true
   },
   "outputs": [],
   "source": [
    "def load_mnist(N=500):\n",
    "    (x_train, y_train), (x_test, y_test) = mnist(DATA_DIR)\n",
    "    x_train = x_train[:N]\n",
    "    y_class = y_train[:N]\n",
    "    return x_train, y_class"
   ]
  },
  {
   "cell_type": "code",
   "execution_count": 75,
   "metadata": {},
   "outputs": [
    {
     "name": "stdout",
     "output_type": "stream",
     "text": [
      "(150, 4) (150,)\n"
     ]
    }
   ],
   "source": [
    "# prepare a list of fixed points and a list of indices of the dataset, which is\n",
    "# used when rearrange the dataset to put the fixed points to the bottom\n",
    "x_train, y_class = load_dataset(dataset_name)\n",
    "print(x_train.shape, y_class.shape)\n",
    "                                \n",
    "point_indices = list(range(x_train.shape[0]))\n",
    "fixed_points = {\n",
    "    # point_id => ([old_x, old_y], [new_x, new_y])\n",
    "}\n",
    "\n",
    "# keep track of old positions of shape NxK, K=2\n",
    "z_init = None"
   ]
  },
  {
   "cell_type": "code",
   "execution_count": 77,
   "metadata": {},
   "outputs": [],
   "source": [
    "def rearrange_fixed_points():\n",
    "    \"\"\"Put a list of fixed points to the bottom of the dataset\"\"\"\n",
    "    global x_train\n",
    "    global y_class\n",
    "    global point_indices\n",
    "    global z_init\n",
    "    \n",
    "    fixed_indices = fixed_points.keys()\n",
    "    new_indices = [i for i in point_indices if i not in fixed_indices]\n",
    "    new_indices += fixed_indices\n",
    "    \n",
    "    point_indices = new_indices\n",
    "    x_train = x_train[new_indices]\n",
    "    y_class = y_class[new_indices]\n",
    "    if z_init is not None:\n",
    "        z_init = z_init[new_indices]\n",
    "        assert(x_train.shape[0] == z_init.shape[0])"
   ]
  },
  {
   "cell_type": "markdown",
   "metadata": {},
   "source": [
    "### Util functions for interactive viz"
   ]
  },
  {
   "cell_type": "code",
   "execution_count": 82,
   "metadata": {},
   "outputs": [],
   "source": [
    "def on_moving_started(source_obj, target):\n",
    "    pos = target['point']\n",
    "    idx = target['index']\n",
    "    fixed_points[idx] = ([pos['x'], pos['y']], [])\n",
    "    lbl_info.value = 'Moving id {} class {}'.format(idx, y_class[idx])\n",
    "    \n",
    "def update_fixed_points(source_obj, target):\n",
    "    pos = target['point']\n",
    "    idx = target['index']\n",
    "    old_pos = fixed_points[idx][0]\n",
    "    new_pos = [pos['x'], pos['y']]\n",
    "    fixed_points[idx] = (old_pos, new_pos)\n",
    "    \n",
    "    info = ''\n",
    "    for p in fixed_points:\n",
    "        ([x0, y0], [x1, y1]) = fixed_points[p]\n",
    "        info += '\\nid {}, class {}: [{:.2f}, {:.2f}] -> [{:.2f}, {:.2f}]'.format(\n",
    "            p, y_class[p], x0, y0, x1, y1)\n",
    "    lbl_info.value = info\n",
    "    \n",
    "def reset_fixed_points():\n",
    "    global fixed_points\n",
    "    global x_train\n",
    "    global y_class\n",
    "    global point_indices\n",
    "    global z_init\n",
    "    \n",
    "    fixed_points = {}\n",
    "    x_train, y_class = load_dataset('iris')\n",
    "    point_indices = list(range(x_train.shape[0]))\n",
    "    z_init = None\n",
    "    \n",
    "    lbl_info.value = 'Fixed points: []'"
   ]
  },
  {
   "cell_type": "code",
   "execution_count": 120,
   "metadata": {
    "scrolled": false
   },
   "outputs": [],
   "source": [
    "def viz(x_2d, y_class): # x_2d of shape NxK, K=2\n",
    "    sc_x = LinearScale()\n",
    "    sc_y = LinearScale()\n",
    "    sc_c = OrdinalColorScale(scheme='Paired') #scheme='RdYlGn'\n",
    "    def_tt = Tooltip(fields=['x', 'y', 'color'], formats=['.2f', '.2f', ''])\n",
    "    \n",
    "    # plot current projected points\n",
    "    scatt = Scatter(x=x_2d[:,0], y=x_2d[:,1], color=y_class,\n",
    "                    scales={'x': sc_x, 'y': sc_y, 'color': sc_c},\n",
    "                    # tooltip=def_tt,\n",
    "                    enable_move=True,\n",
    "                    display_legend=False)\n",
    "    \n",
    "    scatt.on_drag_start(on_moving_started)\n",
    "    scatt.on_drag_end(update_fixed_points)\n",
    "    \n",
    "    ax_x = Axis(scale=sc_x)\n",
    "    ax_y = Axis(scale=sc_y, tick_format='0.2f', orientation='vertical')\n",
    "    \n",
    "    # plot trace from old position\n",
    "    traces = Lines(x=[], y=[], scales={'x': sc_x, 'y': sc_y},)\n",
    "    \n",
    "#     z_init = x_2d + 0.2\n",
    "#     x_pos = []\n",
    "#     y_pos = []\n",
    "#     assert( (x_2d.shape[0] == z_init.shape[0]) and (x_2d.shape[1] == z_init.shape[1]) )\n",
    "#     for i in range(x_2d.shape[0]):\n",
    "#         x0, y0 = z_init[i, :]\n",
    "#         x1, y1 = x_2d[i, :]\n",
    "#         x_pos.append([x0, x1])\n",
    "#         y_pos.append([y0, y1])\n",
    "#     traces.x = x_pos\n",
    "#     traces.y = y_pos\n",
    "    \n",
    "    fig = Figure(marks=[scatt, traces], axes=[ax_x, ax_y])\n",
    "    return fig, scatt, traces"
   ]
  },
  {
   "cell_type": "code",
   "execution_count": 130,
   "metadata": {},
   "outputs": [],
   "source": [
    "def update_scatter(scatt, traces, x_2d, y_class):   \n",
    "    scatt.x = x_2d[:,0]\n",
    "    scatt.y = x_2d[:,1]\n",
    "    scatt.color = y_class\n",
    "    \n",
    "    if z_init is not None:\n",
    "        # draw lines indicating the fixed points\n",
    "        x_pos = []\n",
    "        y_pos = []\n",
    "        for p in fixed_points:\n",
    "            ([x0, y0], [x1, y1]) = fixed_points[p]\n",
    "            [x2, y2] = x_2d[p, :]\n",
    "            x_pos.append([x0, x1, x2])\n",
    "            y_pos.append([y0, y1, y2])\n",
    "#         assert( (x_2d.shape[0] == z_init.shape[0]) and (x_2d.shape[1] == z_init.shape[1]) )\n",
    "#         for i in range(x_2d.shape[0]):\n",
    "#             x0, y0 = z_init[i, :]\n",
    "#             x1, y1 = x_2d[i, :]\n",
    "#             x_pos.append([x0, x1])\n",
    "#             y_pos.append([y0, y1])\n",
    "        traces.x = x_pos\n",
    "        traces.y = y_pos"
   ]
  },
  {
   "cell_type": "code",
   "execution_count": 104,
   "metadata": {},
   "outputs": [],
   "source": [
    "def loss_chart(losses):\n",
    "    sc_x = LinearScale()\n",
    "    sc_y = LinearScale()\n",
    "    def_tt = Tooltip(fields=['x', 'y'])\n",
    "    line = Lines(x=np.arange(len(losses)), y=losses,\n",
    "                 scales={'x': sc_x, 'y': sc_y})\n",
    "    \n",
    "    ax_x = Axis(scale=sc_x)\n",
    "    ax_y = Axis(scale=sc_y, tick_format='0.2f', orientation='vertical')\n",
    "    fig = Figure(marks=[line], axes=[ax_x, ax_y])\n",
    "    return fig, line\n",
    "\n",
    "def update_loss_chart(chart, losses):\n",
    "    chart.x=np.arange(len(losses))\n",
    "    chart.y=losses"
   ]
  },
  {
   "cell_type": "code",
   "execution_count": 122,
   "metadata": {
    "scrolled": false
   },
   "outputs": [
    {
     "name": "stderr",
     "output_type": "stream",
     "text": [
      "/opt/anaconda3/lib/python3.6/site-packages/bqplot/marks.py:226: DeprecationWarning: Deprecated in traitlets 4.1, use the instance .metadata dictionary directly, like x.metadata[key] or x.metadata.get(key, default)\n",
      "  if scales[name].rtype != trait.get_metadata('rtype'):\n",
      "/opt/anaconda3/lib/python3.6/site-packages/bqplot/marks.py:226: DeprecationWarning: Deprecated in traitlets 4.1, use the instance .metadata dictionary directly, like x.metadata[key] or x.metadata.get(key, default)\n",
      "  if scales[name].rtype != trait.get_metadata('rtype'):\n",
      "/opt/anaconda3/lib/python3.6/site-packages/bqplot/marks.py:226: DeprecationWarning: Deprecated in traitlets 4.1, use the instance .metadata dictionary directly, like x.metadata[key] or x.metadata.get(key, default)\n",
      "  if scales[name].rtype != trait.get_metadata('rtype'):\n",
      "/opt/anaconda3/lib/python3.6/site-packages/bqplot/marks.py:226: DeprecationWarning: Deprecated in traitlets 4.1, use the instance .metadata dictionary directly, like x.metadata[key] or x.metadata.get(key, default)\n",
      "  if scales[name].rtype != trait.get_metadata('rtype'):\n",
      "/opt/anaconda3/lib/python3.6/site-packages/bqplot/marks.py:226: DeprecationWarning: Deprecated in traitlets 4.1, use the instance .metadata dictionary directly, like x.metadata[key] or x.metadata.get(key, default)\n",
      "  if scales[name].rtype != trait.get_metadata('rtype'):\n",
      "/opt/anaconda3/lib/python3.6/site-packages/bqplot/marks.py:226: DeprecationWarning: Deprecated in traitlets 4.1, use the instance .metadata dictionary directly, like x.metadata[key] or x.metadata.get(key, default)\n",
      "  if scales[name].rtype != trait.get_metadata('rtype'):\n",
      "/opt/anaconda3/lib/python3.6/site-packages/bqplot/marks.py:226: DeprecationWarning: Deprecated in traitlets 4.1, use the instance .metadata dictionary directly, like x.metadata[key] or x.metadata.get(key, default)\n",
      "  if scales[name].rtype != trait.get_metadata('rtype'):\n",
      "/opt/anaconda3/lib/python3.6/site-packages/ipywidgets/widgets/widget.py:411: DeprecationWarning: Passing unrecoginized arguments to super(Label).__init__(color='Green', font_size='32px').\n",
      "object.__init__() takes no parameters\n",
      "This is deprecated in traitlets 4.2.This error will be raised in a future release of traitlets.\n",
      "  super(Widget, self).__init__(**kwargs)\n"
     ]
    }
   ],
   "source": [
    "fig_loss, loss_line = loss_chart([])\n",
    "fig_scat, scatter, traces = viz(np.zeros([1, 2]), [0])\n",
    "\n",
    "ctrl_sigma_data = FloatSlider(\n",
    "    value=0.5,\n",
    "    min=0,\n",
    "    max=1.0,\n",
    "    step=0.1,\n",
    "    description=r'\\(\\sigma^2\\) data',\n",
    "    readout_format='.1f',\n",
    ")\n",
    "\n",
    "ctrl_sigma_fixed = FloatSlider(\n",
    "    value=0.1,\n",
    "    min=0,\n",
    "    max=1.0,\n",
    "    step=0.05,\n",
    "    description=r'\\(\\sigma^2\\) fix',\n",
    "    readout_format='.2f',\n",
    ")\n",
    "\n",
    "ctrl_num_epochs = IntSlider(\n",
    "    value=1000,\n",
    "    min=10,\n",
    "    max=2000,\n",
    "    step=10,\n",
    "    description='num epochs'\n",
    ")\n",
    "\n",
    "btn_train = Button(description='Train MAP')\n",
    "btn_reset = Button(description='Reset fixed points')\n",
    "btn_reset.on_click(lambda _:reset_fixed_points())\n",
    "btn_train.on_click(lambda _:train_update_result())\n",
    "\n",
    "def train_update_result():\n",
    "    global z_init\n",
    "    fixed_pos = [fixed_points[p][1] for p in fixed_points ]\n",
    "    \n",
    "    losses, w_map, z_mean = train_map(\n",
    "        num_epochs=ctrl_num_epochs.value, \n",
    "        sigma_data=ctrl_sigma_data.value, \n",
    "        sigma_fixed=ctrl_sigma_fixed.value,\n",
    "        fixed_pos=fixed_pos,\n",
    "        loss_line=loss_line)\n",
    "    \n",
    "    if z_init is None:\n",
    "        z_init = z_mean.T\n",
    "    update_scatter(scatter, traces, z_mean.T, y_class)\n",
    "    reset_fixed_points()\n",
    "    \n",
    "lbl_info = Label(color='Green', font_size='32px')\n",
    "lbl_info.value = 'Fixed points: []'\n",
    "\n",
    "ctrl_box = VBox([ctrl_sigma_data, ctrl_sigma_fixed, ctrl_num_epochs])\n",
    "btn_box = VBox([btn_train, btn_reset])\n",
    "left_box = VBox([ctrl_box, btn_box, fig_loss], layout=Layout(width='32%'))\n",
    "right_box = VBox([lbl_info, fig_scat], layout=Layout(width='68%'))\n",
    "gui = HBox([left_box, right_box],layout=Layout(display='flex' ,width='100%', height='580px'))"
   ]
  },
  {
   "cell_type": "markdown",
   "metadata": {},
   "source": [
    "### Base model with original PCA in scikit-learn"
   ]
  },
  {
   "cell_type": "code",
   "execution_count": 14,
   "metadata": {},
   "outputs": [],
   "source": [
    "x_2d = PCA(n_components=2, svd_solver='randomized') \\\n",
    "    .fit_transform(x_train)"
   ]
  },
  {
   "cell_type": "code",
   "execution_count": 15,
   "metadata": {
    "scrolled": false
   },
   "outputs": [
    {
     "name": "stderr",
     "output_type": "stream",
     "text": [
      "/opt/anaconda3/lib/python3.6/site-packages/bqplot/marks.py:226: DeprecationWarning: Deprecated in traitlets 4.1, use the instance .metadata dictionary directly, like x.metadata[key] or x.metadata.get(key, default)\n",
      "  if scales[name].rtype != trait.get_metadata('rtype'):\n",
      "/opt/anaconda3/lib/python3.6/site-packages/bqplot/marks.py:226: DeprecationWarning: Deprecated in traitlets 4.1, use the instance .metadata dictionary directly, like x.metadata[key] or x.metadata.get(key, default)\n",
      "  if scales[name].rtype != trait.get_metadata('rtype'):\n",
      "/opt/anaconda3/lib/python3.6/site-packages/bqplot/marks.py:226: DeprecationWarning: Deprecated in traitlets 4.1, use the instance .metadata dictionary directly, like x.metadata[key] or x.metadata.get(key, default)\n",
      "  if scales[name].rtype != trait.get_metadata('rtype'):\n"
     ]
    },
    {
     "data": {
      "application/vnd.jupyter.widget-view+json": {
       "model_id": "2536dffb399d4344a37513072d906dca",
       "version_major": 2,
       "version_minor": 0
      },
      "text/plain": [
       "A Jupyter Widget"
      ]
     },
     "metadata": {},
     "output_type": "display_data"
    }
   ],
   "source": [
    "fig_scat, scatt1 = viz(x_2d, y_class)\n",
    "scatt1.enable_move = False\n",
    "VBox([fig_scat, lbl_info])"
   ]
  },
  {
   "cell_type": "markdown",
   "metadata": {},
   "source": [
    "### Probabilistic PCA"
   ]
  },
  {
   "cell_type": "code",
   "execution_count": 16,
   "metadata": {},
   "outputs": [],
   "source": [
    "def ppca_model(N, D, K=2, sigma_data=0.5, sigma_fixed=0.005, fixed_pos=[]):\n",
    "    print(\"Build PPCA model with sigma_data={}, sigma_fixed={}, list fixed point: {}\".format(\n",
    "          sigma_data, sigma_fixed, fixed_pos))\n",
    "    \n",
    "    w = ed.Normal(loc=tf.zeros([D, K]), scale=tf.ones([D, K]), name='w')\n",
    "        \n",
    "    n_fixed = len(fixed_pos)\n",
    "    if 0 == n_fixed:\n",
    "        z = ed.Normal(loc=tf.zeros([K, N]),scale=tf.ones([K, N]), name='z')\n",
    "    else:\n",
    "        fixed_pos = np.array(fixed_pos, dtype=np.float32)\n",
    "        z_loc = tf.concat([tf.zeros([K, N - n_fixed]), tf.constant(fixed_pos.T)], axis=1)\n",
    "        \n",
    "        stddv_one_fixed_point = [sigma_fixed] * K\n",
    "        stddv_all_fixed_points = [stddv_one_fixed_point for _ in range(n_fixed)]\n",
    "        stddv_all_fixed_points = np.array(stddv_all_fixed_points, dtype=np.float32)\n",
    "        z_std = tf.concat([tf.ones([K, N - n_fixed]), tf.constant(stddv_all_fixed_points.T)], axis=1)\n",
    "        \n",
    "        z = ed.Normal(loc=z_loc, scale=z_std, name='z')\n",
    "    \n",
    "    x = ed.Normal(loc=tf.matmul(w, z), scale=sigma_data * tf.ones([D, N]), name='x')\n",
    "    return x, w, z"
   ]
  },
  {
   "cell_type": "code",
   "execution_count": 21,
   "metadata": {},
   "outputs": [],
   "source": [
    "def train_map(num_epochs=1000, sigma_data=0.5, sigma_fixed=0.005, fixed_pos=[], loss_line=None):\n",
    "    N, D = x_train.shape\n",
    "    K = 2\n",
    "    \n",
    "    log_joint = ed.make_log_joint_fn(ppca_model)\n",
    "    \n",
    "    tf.reset_default_graph()\n",
    "    w = tf.Variable(np.ones([D,K]), dtype=tf.float32)\n",
    "    z = tf.Variable(np.ones([K,N]), dtype=tf.float32)\n",
    "    \n",
    "    # TODO: fix this\n",
    "    rearrange_fixed_points()\n",
    "    \n",
    "    map_obj = -log_joint(N=N, D=D, K=K,\n",
    "        sigma_data=sigma_data, sigma_fixed=sigma_fixed,\n",
    "        fixed_pos=np.array(fixed_pos, dtype=np.float32),\n",
    "        x=x_train.T, w=w,z=z)\n",
    "    train_proc = tf.train.AdamOptimizer(learning_rate=0.05).minimize(map_obj)\n",
    "\n",
    "    losses = []\n",
    "    with tf.Session() as sess:\n",
    "        sess.run(tf.global_variables_initializer())\n",
    "\n",
    "        for i in range(num_epochs):\n",
    "            sess.run(train_proc)\n",
    "            if i % 10 == 0:\n",
    "                loss = sess.run(map_obj)\n",
    "                losses.append(loss)\n",
    "                if loss_line is not None:\n",
    "                    update_loss_chart(loss_line, losses)\n",
    "        w,z = sess.run([w,z])\n",
    "\n",
    "    return losses, w, z"
   ]
  },
  {
   "cell_type": "code",
   "execution_count": 131,
   "metadata": {
    "scrolled": false
   },
   "outputs": [
    {
     "data": {
      "application/vnd.jupyter.widget-view+json": {
       "model_id": "676da804f8a54b3d96db15c4c71cf5bb",
       "version_major": 2,
       "version_minor": 0
      },
      "text/plain": [
       "A Jupyter Widget"
      ]
     },
     "metadata": {},
     "output_type": "display_data"
    },
    {
     "name": "stdout",
     "output_type": "stream",
     "text": [
      "Build PPCA model with sigma_data=0.5, sigma_fixed=0.1, list fixed point: []\n",
      "Build PPCA model with sigma_data=0.5, sigma_fixed=0.1, list fixed point: [[0.6324415  0.6756253 ]\n",
      " [1.0820774  0.38298535]]\n",
      "Build PPCA model with sigma_data=0.5, sigma_fixed=0.1, list fixed point: [[0.7455326 1.0018146]\n",
      " [1.0624291 1.0059854]]\n",
      "Build PPCA model with sigma_data=0.5, sigma_fixed=0.1, list fixed point: [[0.6296884  0.46497095]\n",
      " [0.53870356 1.1237406 ]]\n",
      "Build PPCA model with sigma_data=0.5, sigma_fixed=0.1, list fixed point: [[0.82871836 0.47940478]]\n",
      "Build PPCA model with sigma_data=0.5, sigma_fixed=0.1, list fixed point: [[0.3078929  0.20805965]]\n",
      "Build PPCA model with sigma_data=0.5, sigma_fixed=0.1, list fixed point: [[0.7641003 0.6143052]]\n",
      "Build PPCA model with sigma_data=0.5, sigma_fixed=0.1, list fixed point: [[0.7911093  0.49217698]\n",
      " [0.92008626 0.6455749 ]\n",
      " [0.8638054  0.5985659 ]\n",
      " [0.8169047  0.46990955]\n",
      " [0.903671   0.5218669 ]\n",
      " [0.93415654 0.31403747]]\n",
      "Build PPCA model with sigma_data=0.5, sigma_fixed=0.1, list fixed point: []\n",
      "Build PPCA model with sigma_data=0.5, sigma_fixed=0.1, list fixed point: [[0.1994588  0.99678177]]\n",
      "Build PPCA model with sigma_data=0.5, sigma_fixed=0.1, list fixed point: [[0.21014531 0.6044864 ]]\n",
      "Build PPCA model with sigma_data=0.5, sigma_fixed=0.1, list fixed point: [[0.21607706 0.73229116]]\n"
     ]
    }
   ],
   "source": [
    "gui"
   ]
  }
 ],
 "metadata": {
  "kernelspec": {
   "display_name": "Python 3",
   "language": "python",
   "name": "python3"
  },
  "language_info": {
   "codemirror_mode": {
    "name": "ipython",
    "version": 3
   },
   "file_extension": ".py",
   "mimetype": "text/x-python",
   "name": "python",
   "nbconvert_exporter": "python",
   "pygments_lexer": "ipython3",
   "version": "3.6.2"
  }
 },
 "nbformat": 4,
 "nbformat_minor": 2
}
