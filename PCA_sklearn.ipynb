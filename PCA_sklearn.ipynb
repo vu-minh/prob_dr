{
 "cells": [
  {
   "cell_type": "code",
   "execution_count": 1,
   "metadata": {},
   "outputs": [
    {
     "name": "stderr",
     "output_type": "stream",
     "text": [
      "/opt/anaconda3/lib/python3.6/importlib/_bootstrap.py:205: RuntimeWarning: numpy.dtype size changed, may indicate binary incompatibility. Expected 96, got 88\n",
      "  return f(*args, **kwds)\n",
      "/opt/anaconda3/lib/python3.6/importlib/_bootstrap.py:205: RuntimeWarning: numpy.dtype size changed, may indicate binary incompatibility. Expected 96, got 88\n",
      "  return f(*args, **kwds)\n",
      "/opt/anaconda3/lib/python3.6/importlib/_bootstrap.py:205: RuntimeWarning: numpy.dtype size changed, may indicate binary incompatibility. Expected 96, got 88\n",
      "  return f(*args, **kwds)\n",
      "/opt/anaconda3/lib/python3.6/importlib/_bootstrap.py:205: RuntimeWarning: numpy.dtype size changed, may indicate binary incompatibility. Expected 96, got 88\n",
      "  return f(*args, **kwds)\n"
     ]
    }
   ],
   "source": [
    "import numpy as np\n",
    "from matplotlib import pyplot as plt\n",
    "\n",
    "%matplotlib inline\n",
    "\n",
    "from sklearn.preprocessing import StandardScaler\n",
    "from sklearn.decomposition import PCA\n",
    "from sklearn.datasets import load_iris, load_digits\n",
    "\n",
    "from ipywidgets import interact"
   ]
  },
  {
   "cell_type": "code",
   "execution_count": 2,
   "metadata": {},
   "outputs": [],
   "source": [
    "np.random.seed(1024)"
   ]
  },
  {
   "cell_type": "code",
   "execution_count": 3,
   "metadata": {},
   "outputs": [],
   "source": [
    "# dataset = load_digits()\n",
    "dataset = load_iris()\n",
    "X, y = dataset.data, dataset.target\n",
    "# X = X / 255\n",
    "X = StandardScaler().fit_transform(X)"
   ]
  },
  {
   "cell_type": "code",
   "execution_count": 4,
   "metadata": {},
   "outputs": [
    {
     "data": {
      "application/vnd.jupyter.widget-view+json": {
       "model_id": "bfb7bb7a2a0c41a497d89b9c2df9fe04",
       "version_major": 2,
       "version_minor": 0
      },
      "text/plain": [
       "interactive(children=(Dropdown(description='method', options=('auto', 'full', 'arpack', 'randomized'), value='…"
      ]
     },
     "metadata": {},
     "output_type": "display_data"
    }
   ],
   "source": [
    "@interact(method=['auto', 'full', 'arpack', 'randomized'])\n",
    "def do_pca(method):\n",
    "    pca = PCA(n_components=2, svd_solver=method, random_state=1024)\n",
    "    print(pca)\n",
    "    X2d = pca.fit_transform(X)\n",
    "    plt.scatter(X2d[:,0], X2d[:,1], c=y)\n",
    "    plt.matshow(pca.components_, cmap='viridis')\n",
    "    plt.show()"
   ]
  },
  {
   "cell_type": "code",
   "execution_count": 5,
   "metadata": {},
   "outputs": [
    {
     "name": "stderr",
     "output_type": "stream",
     "text": [
      "/opt/anaconda3/lib/python3.6/importlib/_bootstrap.py:205: RuntimeWarning: numpy.dtype size changed, may indicate binary incompatibility. Expected 96, got 88\n",
      "  return f(*args, **kwds)\n",
      "/opt/anaconda3/lib/python3.6/importlib/_bootstrap.py:205: RuntimeWarning: numpy.dtype size changed, may indicate binary incompatibility. Expected 96, got 88\n",
      "  return f(*args, **kwds)\n",
      "/opt/anaconda3/lib/python3.6/importlib/_bootstrap.py:205: RuntimeWarning: numpy.dtype size changed, may indicate binary incompatibility. Expected 96, got 88\n",
      "  return f(*args, **kwds)\n"
     ]
    }
   ],
   "source": [
    "from bqplot import *\n",
    "from bqplot.interacts import (\n",
    "    FastIntervalSelector, IndexSelector, BrushIntervalSelector,\n",
    "    BrushSelector, MultiSelector, LassoSelector,\n",
    ")\n",
    "from ipywidgets import Output, ToggleButtons, VBox, HTML\n",
    "from ipywidgets import interact, interactive_output\n"
   ]
  },
  {
   "cell_type": "code",
   "execution_count": 6,
   "metadata": {},
   "outputs": [],
   "source": [
    "out = Output(layout={'border': '1px solid black'})"
   ]
  },
  {
   "cell_type": "code",
   "execution_count": 7,
   "metadata": {},
   "outputs": [],
   "source": [
    "def create_figure(x_data, y_data, color, selector, **selector_kwargs):\n",
    "    '''\n",
    "    Returns a Figure with a Scatter and a Selector.\n",
    "    \n",
    "    Arguments\n",
    "    ---------\n",
    "    selector: The type of Selector, one of\n",
    "        {'BrushIntervalSelector', 'BrushSelector', 'FastIntervalSelector', 'IndexSelector', 'LassoSelector'}\n",
    "    selector_kwargs: Arguments to be passed to the Selector\n",
    "    '''\n",
    "    scales = {'x': LinearScale(), 'y': LinearScale()}\n",
    "    \n",
    "    scatter = Scatter(x=x_data, y=y_data, scales=scales, color=color,\n",
    "                      selected_style={'opacity': '1'}, unselected_style={'opacity': '0.2'})\n",
    "    scatter.enable_move=True\n",
    "    sel = selector(marks=[scatter], **selector_kwargs)\n",
    "    \n",
    "#     text_brush = HTML()\n",
    "#     if selector != LassoSelector:\n",
    "#         def update_text(*args):\n",
    "#             text_brush.value = '{}.selected = {}'.format(selector.__name__, sel.selected)\n",
    "#         sel.observe(update_text, 'selected')\n",
    "#         update_text()\n",
    "\n",
    "    x_ax = Axis(scale=scales['x'])\n",
    "    x_ay = Axis(scale=scales['y'], orientation='vertical')\n",
    "    fig = Figure(marks=[scatter], axes=[x_ax, x_ay], title='{} Example'.format(selector.__name__),\n",
    "                 interaction=sel)\n",
    "    return VBox([fig, text_brush])"
   ]
  },
  {
   "cell_type": "code",
   "execution_count": 8,
   "metadata": {},
   "outputs": [],
   "source": [
    "pca = PCA(n_components=2, svd_solver='auto', random_state=1024)\n",
    "X2d = pca.fit_transform(X)\n",
    "# create_figure(x_data=X2d[:,0], y_data=X2d[:,1], color=y, selector=LassoSelector)"
   ]
  },
  {
   "cell_type": "code",
   "execution_count": 23,
   "metadata": {},
   "outputs": [
    {
     "data": {
      "application/vnd.jupyter.widget-view+json": {
       "model_id": "7dde7561ef5649d3a907fb48fa93f97c",
       "version_major": 2,
       "version_minor": 0
      },
      "text/plain": [
       "VBox(children=(Figure(axes=[Axis(scale=LinearScale()), Axis(orientation='vertical', scale=LinearScale())], fig…"
      ]
     },
     "metadata": {},
     "output_type": "display_data"
    }
   ],
   "source": [
    "scales = {'x': LinearScale(), 'y': LinearScale(), 'color': OrdinalColorScale(scheme='CATEGORY10')}\n",
    "scatter = Scatter(x=X2d[:, 0], y=X2d[:, 1], scales=scales, color=y,\n",
    "                  selected_style={'opacity': '1'}, unselected_style={'opacity': '0.2'})\n",
    "scatter.enable_move=True\n",
    "sel = LassoSelector(marks=[scatter])\n",
    "\n",
    "#     text_brush = HTML()\n",
    "#     if selector != LassoSelector:\n",
    "#         def update_text(*args):\n",
    "#             text_brush.value = '{}.selected = {}'.format(selector.__name__, sel.selected)\n",
    "#         sel.observe(update_text, 'selected')\n",
    "#         update_text()\n",
    "\n",
    "x_ax = Axis(scale=scales['x'])\n",
    "x_ay = Axis(scale=scales['y'], orientation='vertical')\n",
    "fig = Figure(marks=[scatter], axes=[x_ax, x_ay],\n",
    "             interaction=sel)\n",
    "VBox([fig,out])"
   ]
  },
  {
   "cell_type": "code",
   "execution_count": 24,
   "metadata": {},
   "outputs": [],
   "source": [
    "fig.interaction=None\n",
    "scatter.enable_move=True"
   ]
  },
  {
   "cell_type": "code",
   "execution_count": 31,
   "metadata": {},
   "outputs": [],
   "source": [
    "out.clear_output()"
   ]
  },
  {
   "cell_type": "code",
   "execution_count": 26,
   "metadata": {},
   "outputs": [],
   "source": [
    "scatter.selected=list(range(95,105))"
   ]
  },
  {
   "cell_type": "code",
   "execution_count": null,
   "metadata": {},
   "outputs": [],
   "source": [
    "sel.marks=[scatter]\n",
    "fig.interaction=sel"
   ]
  },
  {
   "cell_type": "code",
   "execution_count": 13,
   "metadata": {},
   "outputs": [],
   "source": [
    "target_id = None\n",
    "old_pos = None"
   ]
  },
  {
   "cell_type": "code",
   "execution_count": 14,
   "metadata": {},
   "outputs": [],
   "source": [
    "@out.capture()\n",
    "def on_moving_started(source_obj, target):\n",
    "    global target_id\n",
    "    global old_pos\n",
    "    pos = target['point']\n",
    "    old_pos = [pos['x'], pos['y']]\n",
    "    target_id = target['index']"
   ]
  },
  {
   "cell_type": "code",
   "execution_count": 15,
   "metadata": {},
   "outputs": [],
   "source": [
    "scatter.on_drag_start(on_moving_started)"
   ]
  },
  {
   "cell_type": "code",
   "execution_count": 16,
   "metadata": {},
   "outputs": [
    {
     "data": {
      "text/plain": [
       "<contextlib._GeneratorContextManager at 0x7f05ff674668>"
      ]
     },
     "execution_count": 16,
     "metadata": {},
     "output_type": "execute_result"
    }
   ],
   "source": [
    "@out.capture()\n",
    "def on_drag1(source_obj, target):\n",
    "    scatter.x[0] = 1.0\n",
    "    scatter.y[0] = -1.0\n",
    "#     pos = target['point']\n",
    "#     current_pos = [pos['x'], pos['y']]\n",
    "#     dx = current_pos[0] - old_pos[0]\n",
    "#     dy = current_pos[1] - old_pos[1]\n",
    "    \n",
    "#     old_x = scatter.x\n",
    "#     old_y = scatter.y\n",
    "#     print(dx, dy)\n",
    "#     for pid in scatter.selected:\n",
    "#         if pid != target['index']:\n",
    "#             old_x[pid] += dx\n",
    "#             old_y[pid] += dy\n",
    "#     scatter.x = old_x\n",
    "#     scatter.y = old_y\n",
    "    \n",
    "scatter.on_drag(on_drag1)\n",
    "scatter.hold_sync()"
   ]
  },
  {
   "cell_type": "code",
   "execution_count": 29,
   "metadata": {},
   "outputs": [],
   "source": [
    "@out.capture()\n",
    "def on_moving_finished(source_obj, target):\n",
    "    pos = target['point']\n",
    "    current_pos = [pos['x'], pos['y']]\n",
    "    dx = current_pos[0] - old_pos[0]\n",
    "    dy = current_pos[1] - old_pos[1]\n",
    "    \n",
    "    print('end move ', target['index'])\n",
    "    for pid in scatter.selected:\n",
    "        if pid != target['index']:\n",
    "            print('update pos: ', pid)\n",
    "            scatter.x[pid] += dx\n",
    "            scatter.y[pid] += dy"
   ]
  },
  {
   "cell_type": "code",
   "execution_count": 30,
   "metadata": {},
   "outputs": [],
   "source": [
    "scatter.on_drag_end(on_moving_finished)"
   ]
  },
  {
   "cell_type": "code",
   "execution_count": null,
   "metadata": {},
   "outputs": [],
   "source": []
  }
 ],
 "metadata": {
  "kernelspec": {
   "display_name": "Python 3",
   "language": "python",
   "name": "python3"
  },
  "language_info": {
   "codemirror_mode": {
    "name": "ipython",
    "version": 3
   },
   "file_extension": ".py",
   "mimetype": "text/x-python",
   "name": "python",
   "nbconvert_exporter": "python",
   "pygments_lexer": "ipython3",
   "version": "3.6.2"
  }
 },
 "nbformat": 4,
 "nbformat_minor": 2
}
